{
  "nbformat": 4,
  "nbformat_minor": 0,
  "metadata": {
    "colab": {
      "provenance": [],
      "collapsed_sections": [],
      "toc_visible": true
    },
    "kernelspec": {
      "name": "python3",
      "display_name": "Python 3"
    },
    "language_info": {
      "name": "python"
    }
  },
  "cells": [
    {
      "cell_type": "code",
      "execution_count": null,
      "metadata": {
        "id": "xfS-mE9DzQ66"
      },
      "outputs": [],
      "source": [
        "import pandas as pd #Importando a biblioteca pandas"
      ]
    },
    {
      "cell_type": "code",
      "source": [
        "import numpy as np #Importando a biblioteca numpy"
      ],
      "metadata": {
        "id": "OQQUo3oE_QX4"
      },
      "execution_count": null,
      "outputs": []
    },
    {
      "cell_type": "code",
      "source": [
        "import matplotlib.pyplot as plt #Importando a biblioteca matplot"
      ],
      "metadata": {
        "id": "nQ8T6_QT8_Z_"
      },
      "execution_count": null,
      "outputs": []
    },
    {
      "cell_type": "code",
      "source": [
        "import seaborn as sns #Importando a biblioteca seaborn"
      ],
      "metadata": {
        "id": "HCKeRJ_X8vNX"
      },
      "execution_count": null,
      "outputs": []
    },
    {
      "cell_type": "code",
      "source": [
        "from sklearn.metrics import classification_report #Cria um relatório de texto mostrando as principais métricas de classificação."
      ],
      "metadata": {
        "id": "eG8KLUl6pU5T"
      },
      "execution_count": null,
      "outputs": []
    },
    {
      "cell_type": "code",
      "source": [
        "from sklearn.model_selection import train_test_split #Divide matrizes em subconjuntos aleatórios de treinamento e teste"
      ],
      "metadata": {
        "id": "1uHXd0aC35ty"
      },
      "execution_count": null,
      "outputs": []
    },
    {
      "cell_type": "code",
      "source": [
        "from sklearn.preprocessing import StandardScaler # Padroniza recursos removendo a média e dimensionando para a variação da unidade"
      ],
      "metadata": {
        "id": "Xhrf_DsB4PjA"
      },
      "execution_count": null,
      "outputs": []
    },
    {
      "cell_type": "code",
      "source": [
        "from sklearn.linear_model import LinearRegression #Ajusta um modelo linear de acordo com os coeficientes "
      ],
      "metadata": {
        "id": "bv_GEAML4gkU"
      },
      "execution_count": null,
      "outputs": []
    },
    {
      "cell_type": "code",
      "source": [
        "from sklearn.metrics import mean_squared_error, mean_absolute_error, r2_score #Erro Quadrático Médio|| Erro Absoluto Médio || Função de pontuação de regressão"
      ],
      "metadata": {
        "id": "07sSU9uD4x2l"
      },
      "execution_count": null,
      "outputs": []
    },
    {
      "cell_type": "code",
      "source": [
        "from sklearn.neighbors import KNeighborsClassifier #Classificador implementando o voto dos k-vizinhos mais próximos."
      ],
      "metadata": {
        "id": "H_HJYLrEKDBu"
      },
      "execution_count": null,
      "outputs": []
    },
    {
      "cell_type": "code",
      "source": [
        "from sklearn.preprocessing import StandardScaler, MinMaxScaler #Padronização de recursos || Tranformação de recursos"
      ],
      "metadata": {
        "id": "pXJqPpkoMNwM"
      },
      "execution_count": null,
      "outputs": []
    },
    {
      "cell_type": "code",
      "source": [
        "from sklearn import metrics"
      ],
      "metadata": {
        "id": "QtR-2sxrKLk9"
      },
      "execution_count": null,
      "outputs": []
    },
    {
      "cell_type": "code",
      "source": [
        "from sklearn import svm # SupportVector Machine (Máquina de Vetores de Suporte)"
      ],
      "metadata": {
        "id": "ZgKMLq1mgieI"
      },
      "execution_count": null,
      "outputs": []
    },
    {
      "cell_type": "code",
      "source": [
        "import warnings\n",
        "warnings.filterwarnings(\"ignore\") # Verifica os tipos de argumentos e compila as expressões"
      ],
      "metadata": {
        "id": "lety_U-He-NV"
      },
      "execution_count": null,
      "outputs": []
    },
    {
      "cell_type": "code",
      "source": [
        "from sklearn.tree import DecisionTreeClassifier #Classificador da árvore de decisão"
      ],
      "metadata": {
        "id": "ckviQGlJ_jwY"
      },
      "execution_count": null,
      "outputs": []
    },
    {
      "cell_type": "code",
      "source": [
        "from sklearn.ensemble import RandomForestClassifier #Ajusta os classificadores de árvore de decisão em subamostrar do dataframe"
      ],
      "metadata": {
        "id": "3ioGTuGqgQ6q"
      },
      "execution_count": null,
      "outputs": []
    },
    {
      "cell_type": "code",
      "source": [
        "from sklearn.tree import plot_tree #Plota a árvore de decisão"
      ],
      "metadata": {
        "id": "bNQizCiYgnKx"
      },
      "execution_count": null,
      "outputs": []
    },
    {
      "cell_type": "code",
      "source": [
        "from sklearn.metrics import accuracy_score, confusion_matrix # Pontuação de classificação de precisão || Calcula a matriz de confusão para avaliar a precisão de uma classificação."
      ],
      "metadata": {
        "id": "OcZAqZH-hHxJ"
      },
      "execution_count": null,
      "outputs": []
    },
    {
      "cell_type": "markdown",
      "source": [
        "# Relembrando o Dataframe\n",
        "\n",
        "\n"
      ],
      "metadata": {
        "id": "3xIeTSXT98Og"
      }
    },
    {
      "cell_type": "code",
      "source": [
        "dados = pd.read_csv(\"dados_rh_pos_analise.csv\") #Lendo o dataframe"
      ],
      "metadata": {
        "id": "wAtky2cq94p-"
      },
      "execution_count": null,
      "outputs": []
    },
    {
      "cell_type": "code",
      "source": [
        "dados.columns #Verificando quais são as colunas"
      ],
      "metadata": {
        "colab": {
          "base_uri": "https://localhost:8080/"
        },
        "id": "qaMIRw_q-ARz",
        "outputId": "1672fe26-9d81-40da-d62a-b1c49d3703f0"
      },
      "execution_count": null,
      "outputs": [
        {
          "output_type": "execute_result",
          "data": {
            "text/plain": [
              "Index(['Unnamed: 0', 'id_empregado', 'departamento', 'regiao', 'educacao',\n",
              "       'genero', 'canal_de_recrutamento', 'n_de_treinamentos', 'idade',\n",
              "       'pontuacao_ano_anterior', 'tempo_de_servico', 'KPIs >80%',\n",
              "       'venceu_premiacoes?', 'pontuacao_media_treinamentos', 'foi_promovido'],\n",
              "      dtype='object')"
            ]
          },
          "metadata": {},
          "execution_count": 20
        }
      ]
    },
    {
      "cell_type": "code",
      "source": [
        "dados.head() #Mostrando as 5 primeiras linhas"
      ],
      "metadata": {
        "colab": {
          "base_uri": "https://localhost:8080/",
          "height": 340
        },
        "id": "B-cq88DY-BjI",
        "outputId": "d9547705-6879-4801-eeff-6568abba7a4c"
      },
      "execution_count": null,
      "outputs": [
        {
          "output_type": "execute_result",
          "data": {
            "text/plain": [
              "   Unnamed: 0  id_empregado        departamento     regiao          educacao  \\\n",
              "0           0         65438  Vendas & Marketing   regiao_7  Mestrado & acima   \n",
              "1           1         65141           Operacoes  regiao_22       Bacharelado   \n",
              "2           2          7513  Vendas & Marketing  regiao_19       Bacharelado   \n",
              "3           3          2542  Vendas & Marketing  regiao_23       Bacharelado   \n",
              "4           4         48945          Tecnologia  regiao_26       Bacharelado   \n",
              "\n",
              "  genero canal_de_recrutamento  n_de_treinamentos  idade  \\\n",
              "0      F     processo seletivo                  1     35   \n",
              "1      M                outros                  1     30   \n",
              "2      M     processo seletivo                  1     34   \n",
              "3      M                outros                  2     39   \n",
              "4      M                outros                  1     45   \n",
              "\n",
              "   pontuacao_ano_anterior  tempo_de_servico  KPIs >80%  venceu_premiacoes?  \\\n",
              "0                     5.0                 8          1                   0   \n",
              "1                     5.0                 4          0                   0   \n",
              "2                     3.0                 7          0                   0   \n",
              "3                     1.0                10          0                   0   \n",
              "4                     3.0                 2          0                   0   \n",
              "\n",
              "   pontuacao_media_treinamentos  foi_promovido  \n",
              "0                            49              0  \n",
              "1                            60              0  \n",
              "2                            50              0  \n",
              "3                            50              0  \n",
              "4                            73              0  "
            ],
            "text/html": [
              "\n",
              "  <div id=\"df-aa0bc7f9-22c0-4ca8-89b2-13fe0f2f1cf5\">\n",
              "    <div class=\"colab-df-container\">\n",
              "      <div>\n",
              "<style scoped>\n",
              "    .dataframe tbody tr th:only-of-type {\n",
              "        vertical-align: middle;\n",
              "    }\n",
              "\n",
              "    .dataframe tbody tr th {\n",
              "        vertical-align: top;\n",
              "    }\n",
              "\n",
              "    .dataframe thead th {\n",
              "        text-align: right;\n",
              "    }\n",
              "</style>\n",
              "<table border=\"1\" class=\"dataframe\">\n",
              "  <thead>\n",
              "    <tr style=\"text-align: right;\">\n",
              "      <th></th>\n",
              "      <th>Unnamed: 0</th>\n",
              "      <th>id_empregado</th>\n",
              "      <th>departamento</th>\n",
              "      <th>regiao</th>\n",
              "      <th>educacao</th>\n",
              "      <th>genero</th>\n",
              "      <th>canal_de_recrutamento</th>\n",
              "      <th>n_de_treinamentos</th>\n",
              "      <th>idade</th>\n",
              "      <th>pontuacao_ano_anterior</th>\n",
              "      <th>tempo_de_servico</th>\n",
              "      <th>KPIs &gt;80%</th>\n",
              "      <th>venceu_premiacoes?</th>\n",
              "      <th>pontuacao_media_treinamentos</th>\n",
              "      <th>foi_promovido</th>\n",
              "    </tr>\n",
              "  </thead>\n",
              "  <tbody>\n",
              "    <tr>\n",
              "      <th>0</th>\n",
              "      <td>0</td>\n",
              "      <td>65438</td>\n",
              "      <td>Vendas &amp; Marketing</td>\n",
              "      <td>regiao_7</td>\n",
              "      <td>Mestrado &amp; acima</td>\n",
              "      <td>F</td>\n",
              "      <td>processo seletivo</td>\n",
              "      <td>1</td>\n",
              "      <td>35</td>\n",
              "      <td>5.0</td>\n",
              "      <td>8</td>\n",
              "      <td>1</td>\n",
              "      <td>0</td>\n",
              "      <td>49</td>\n",
              "      <td>0</td>\n",
              "    </tr>\n",
              "    <tr>\n",
              "      <th>1</th>\n",
              "      <td>1</td>\n",
              "      <td>65141</td>\n",
              "      <td>Operacoes</td>\n",
              "      <td>regiao_22</td>\n",
              "      <td>Bacharelado</td>\n",
              "      <td>M</td>\n",
              "      <td>outros</td>\n",
              "      <td>1</td>\n",
              "      <td>30</td>\n",
              "      <td>5.0</td>\n",
              "      <td>4</td>\n",
              "      <td>0</td>\n",
              "      <td>0</td>\n",
              "      <td>60</td>\n",
              "      <td>0</td>\n",
              "    </tr>\n",
              "    <tr>\n",
              "      <th>2</th>\n",
              "      <td>2</td>\n",
              "      <td>7513</td>\n",
              "      <td>Vendas &amp; Marketing</td>\n",
              "      <td>regiao_19</td>\n",
              "      <td>Bacharelado</td>\n",
              "      <td>M</td>\n",
              "      <td>processo seletivo</td>\n",
              "      <td>1</td>\n",
              "      <td>34</td>\n",
              "      <td>3.0</td>\n",
              "      <td>7</td>\n",
              "      <td>0</td>\n",
              "      <td>0</td>\n",
              "      <td>50</td>\n",
              "      <td>0</td>\n",
              "    </tr>\n",
              "    <tr>\n",
              "      <th>3</th>\n",
              "      <td>3</td>\n",
              "      <td>2542</td>\n",
              "      <td>Vendas &amp; Marketing</td>\n",
              "      <td>regiao_23</td>\n",
              "      <td>Bacharelado</td>\n",
              "      <td>M</td>\n",
              "      <td>outros</td>\n",
              "      <td>2</td>\n",
              "      <td>39</td>\n",
              "      <td>1.0</td>\n",
              "      <td>10</td>\n",
              "      <td>0</td>\n",
              "      <td>0</td>\n",
              "      <td>50</td>\n",
              "      <td>0</td>\n",
              "    </tr>\n",
              "    <tr>\n",
              "      <th>4</th>\n",
              "      <td>4</td>\n",
              "      <td>48945</td>\n",
              "      <td>Tecnologia</td>\n",
              "      <td>regiao_26</td>\n",
              "      <td>Bacharelado</td>\n",
              "      <td>M</td>\n",
              "      <td>outros</td>\n",
              "      <td>1</td>\n",
              "      <td>45</td>\n",
              "      <td>3.0</td>\n",
              "      <td>2</td>\n",
              "      <td>0</td>\n",
              "      <td>0</td>\n",
              "      <td>73</td>\n",
              "      <td>0</td>\n",
              "    </tr>\n",
              "  </tbody>\n",
              "</table>\n",
              "</div>\n",
              "      <button class=\"colab-df-convert\" onclick=\"convertToInteractive('df-aa0bc7f9-22c0-4ca8-89b2-13fe0f2f1cf5')\"\n",
              "              title=\"Convert this dataframe to an interactive table.\"\n",
              "              style=\"display:none;\">\n",
              "        \n",
              "  <svg xmlns=\"http://www.w3.org/2000/svg\" height=\"24px\"viewBox=\"0 0 24 24\"\n",
              "       width=\"24px\">\n",
              "    <path d=\"M0 0h24v24H0V0z\" fill=\"none\"/>\n",
              "    <path d=\"M18.56 5.44l.94 2.06.94-2.06 2.06-.94-2.06-.94-.94-2.06-.94 2.06-2.06.94zm-11 1L8.5 8.5l.94-2.06 2.06-.94-2.06-.94L8.5 2.5l-.94 2.06-2.06.94zm10 10l.94 2.06.94-2.06 2.06-.94-2.06-.94-.94-2.06-.94 2.06-2.06.94z\"/><path d=\"M17.41 7.96l-1.37-1.37c-.4-.4-.92-.59-1.43-.59-.52 0-1.04.2-1.43.59L10.3 9.45l-7.72 7.72c-.78.78-.78 2.05 0 2.83L4 21.41c.39.39.9.59 1.41.59.51 0 1.02-.2 1.41-.59l7.78-7.78 2.81-2.81c.8-.78.8-2.07 0-2.86zM5.41 20L4 18.59l7.72-7.72 1.47 1.35L5.41 20z\"/>\n",
              "  </svg>\n",
              "      </button>\n",
              "      \n",
              "  <style>\n",
              "    .colab-df-container {\n",
              "      display:flex;\n",
              "      flex-wrap:wrap;\n",
              "      gap: 12px;\n",
              "    }\n",
              "\n",
              "    .colab-df-convert {\n",
              "      background-color: #E8F0FE;\n",
              "      border: none;\n",
              "      border-radius: 50%;\n",
              "      cursor: pointer;\n",
              "      display: none;\n",
              "      fill: #1967D2;\n",
              "      height: 32px;\n",
              "      padding: 0 0 0 0;\n",
              "      width: 32px;\n",
              "    }\n",
              "\n",
              "    .colab-df-convert:hover {\n",
              "      background-color: #E2EBFA;\n",
              "      box-shadow: 0px 1px 2px rgba(60, 64, 67, 0.3), 0px 1px 3px 1px rgba(60, 64, 67, 0.15);\n",
              "      fill: #174EA6;\n",
              "    }\n",
              "\n",
              "    [theme=dark] .colab-df-convert {\n",
              "      background-color: #3B4455;\n",
              "      fill: #D2E3FC;\n",
              "    }\n",
              "\n",
              "    [theme=dark] .colab-df-convert:hover {\n",
              "      background-color: #434B5C;\n",
              "      box-shadow: 0px 1px 3px 1px rgba(0, 0, 0, 0.15);\n",
              "      filter: drop-shadow(0px 1px 2px rgba(0, 0, 0, 0.3));\n",
              "      fill: #FFFFFF;\n",
              "    }\n",
              "  </style>\n",
              "\n",
              "      <script>\n",
              "        const buttonEl =\n",
              "          document.querySelector('#df-aa0bc7f9-22c0-4ca8-89b2-13fe0f2f1cf5 button.colab-df-convert');\n",
              "        buttonEl.style.display =\n",
              "          google.colab.kernel.accessAllowed ? 'block' : 'none';\n",
              "\n",
              "        async function convertToInteractive(key) {\n",
              "          const element = document.querySelector('#df-aa0bc7f9-22c0-4ca8-89b2-13fe0f2f1cf5');\n",
              "          const dataTable =\n",
              "            await google.colab.kernel.invokeFunction('convertToInteractive',\n",
              "                                                     [key], {});\n",
              "          if (!dataTable) return;\n",
              "\n",
              "          const docLinkHtml = 'Like what you see? Visit the ' +\n",
              "            '<a target=\"_blank\" href=https://colab.research.google.com/notebooks/data_table.ipynb>data table notebook</a>'\n",
              "            + ' to learn more about interactive tables.';\n",
              "          element.innerHTML = '';\n",
              "          dataTable['output_type'] = 'display_data';\n",
              "          await google.colab.output.renderOutput(dataTable, element);\n",
              "          const docLink = document.createElement('div');\n",
              "          docLink.innerHTML = docLinkHtml;\n",
              "          element.appendChild(docLink);\n",
              "        }\n",
              "      </script>\n",
              "    </div>\n",
              "  </div>\n",
              "  "
            ]
          },
          "metadata": {},
          "execution_count": 21
        }
      ]
    },
    {
      "cell_type": "code",
      "source": [
        "dados.tail() #Mostrando as 5 últimas linhas"
      ],
      "metadata": {
        "colab": {
          "base_uri": "https://localhost:8080/",
          "height": 322
        },
        "id": "loC_0ega-ChN",
        "outputId": "72ff69ba-acea-4295-80a5-34d20ec027ce"
      },
      "execution_count": null,
      "outputs": [
        {
          "output_type": "execute_result",
          "data": {
            "text/plain": [
              "       Unnamed: 0  id_empregado        departamento     regiao  \\\n",
              "54803       54803          3030          Tecnologia  regiao_14   \n",
              "54804       54804         74592           Operacoes  regiao_27   \n",
              "54805       54805         13918             Analise   regiao_1   \n",
              "54806       54806         13614  Vendas & Marketing   regiao_9   \n",
              "54807       54807         51526                  RH  regiao_22   \n",
              "\n",
              "               educacao genero canal_de_recrutamento  n_de_treinamentos  \\\n",
              "54803       Bacharelado      M     processo seletivo                  1   \n",
              "54804  Mestrado & acima      F                outros                  1   \n",
              "54805       Bacharelado      M                outros                  1   \n",
              "54806            Outros      M     processo seletivo                  1   \n",
              "54807       Bacharelado      M                outros                  1   \n",
              "\n",
              "       idade  pontuacao_ano_anterior  tempo_de_servico  KPIs >80%  \\\n",
              "54803     48                     3.0                17          0   \n",
              "54804     37                     2.0                 6          0   \n",
              "54805     27                     5.0                 3          1   \n",
              "54806     29                     1.0                 2          0   \n",
              "54807     27                     1.0                 5          0   \n",
              "\n",
              "       venceu_premiacoes?  pontuacao_media_treinamentos  foi_promovido  \n",
              "54803                   0                            78              0  \n",
              "54804                   0                            56              0  \n",
              "54805                   0                            79              0  \n",
              "54806                   0                            45              0  \n",
              "54807                   0                            49              0  "
            ],
            "text/html": [
              "\n",
              "  <div id=\"df-d88fb7ac-de2e-45b2-a091-d2317744dea6\">\n",
              "    <div class=\"colab-df-container\">\n",
              "      <div>\n",
              "<style scoped>\n",
              "    .dataframe tbody tr th:only-of-type {\n",
              "        vertical-align: middle;\n",
              "    }\n",
              "\n",
              "    .dataframe tbody tr th {\n",
              "        vertical-align: top;\n",
              "    }\n",
              "\n",
              "    .dataframe thead th {\n",
              "        text-align: right;\n",
              "    }\n",
              "</style>\n",
              "<table border=\"1\" class=\"dataframe\">\n",
              "  <thead>\n",
              "    <tr style=\"text-align: right;\">\n",
              "      <th></th>\n",
              "      <th>Unnamed: 0</th>\n",
              "      <th>id_empregado</th>\n",
              "      <th>departamento</th>\n",
              "      <th>regiao</th>\n",
              "      <th>educacao</th>\n",
              "      <th>genero</th>\n",
              "      <th>canal_de_recrutamento</th>\n",
              "      <th>n_de_treinamentos</th>\n",
              "      <th>idade</th>\n",
              "      <th>pontuacao_ano_anterior</th>\n",
              "      <th>tempo_de_servico</th>\n",
              "      <th>KPIs &gt;80%</th>\n",
              "      <th>venceu_premiacoes?</th>\n",
              "      <th>pontuacao_media_treinamentos</th>\n",
              "      <th>foi_promovido</th>\n",
              "    </tr>\n",
              "  </thead>\n",
              "  <tbody>\n",
              "    <tr>\n",
              "      <th>54803</th>\n",
              "      <td>54803</td>\n",
              "      <td>3030</td>\n",
              "      <td>Tecnologia</td>\n",
              "      <td>regiao_14</td>\n",
              "      <td>Bacharelado</td>\n",
              "      <td>M</td>\n",
              "      <td>processo seletivo</td>\n",
              "      <td>1</td>\n",
              "      <td>48</td>\n",
              "      <td>3.0</td>\n",
              "      <td>17</td>\n",
              "      <td>0</td>\n",
              "      <td>0</td>\n",
              "      <td>78</td>\n",
              "      <td>0</td>\n",
              "    </tr>\n",
              "    <tr>\n",
              "      <th>54804</th>\n",
              "      <td>54804</td>\n",
              "      <td>74592</td>\n",
              "      <td>Operacoes</td>\n",
              "      <td>regiao_27</td>\n",
              "      <td>Mestrado &amp; acima</td>\n",
              "      <td>F</td>\n",
              "      <td>outros</td>\n",
              "      <td>1</td>\n",
              "      <td>37</td>\n",
              "      <td>2.0</td>\n",
              "      <td>6</td>\n",
              "      <td>0</td>\n",
              "      <td>0</td>\n",
              "      <td>56</td>\n",
              "      <td>0</td>\n",
              "    </tr>\n",
              "    <tr>\n",
              "      <th>54805</th>\n",
              "      <td>54805</td>\n",
              "      <td>13918</td>\n",
              "      <td>Analise</td>\n",
              "      <td>regiao_1</td>\n",
              "      <td>Bacharelado</td>\n",
              "      <td>M</td>\n",
              "      <td>outros</td>\n",
              "      <td>1</td>\n",
              "      <td>27</td>\n",
              "      <td>5.0</td>\n",
              "      <td>3</td>\n",
              "      <td>1</td>\n",
              "      <td>0</td>\n",
              "      <td>79</td>\n",
              "      <td>0</td>\n",
              "    </tr>\n",
              "    <tr>\n",
              "      <th>54806</th>\n",
              "      <td>54806</td>\n",
              "      <td>13614</td>\n",
              "      <td>Vendas &amp; Marketing</td>\n",
              "      <td>regiao_9</td>\n",
              "      <td>Outros</td>\n",
              "      <td>M</td>\n",
              "      <td>processo seletivo</td>\n",
              "      <td>1</td>\n",
              "      <td>29</td>\n",
              "      <td>1.0</td>\n",
              "      <td>2</td>\n",
              "      <td>0</td>\n",
              "      <td>0</td>\n",
              "      <td>45</td>\n",
              "      <td>0</td>\n",
              "    </tr>\n",
              "    <tr>\n",
              "      <th>54807</th>\n",
              "      <td>54807</td>\n",
              "      <td>51526</td>\n",
              "      <td>RH</td>\n",
              "      <td>regiao_22</td>\n",
              "      <td>Bacharelado</td>\n",
              "      <td>M</td>\n",
              "      <td>outros</td>\n",
              "      <td>1</td>\n",
              "      <td>27</td>\n",
              "      <td>1.0</td>\n",
              "      <td>5</td>\n",
              "      <td>0</td>\n",
              "      <td>0</td>\n",
              "      <td>49</td>\n",
              "      <td>0</td>\n",
              "    </tr>\n",
              "  </tbody>\n",
              "</table>\n",
              "</div>\n",
              "      <button class=\"colab-df-convert\" onclick=\"convertToInteractive('df-d88fb7ac-de2e-45b2-a091-d2317744dea6')\"\n",
              "              title=\"Convert this dataframe to an interactive table.\"\n",
              "              style=\"display:none;\">\n",
              "        \n",
              "  <svg xmlns=\"http://www.w3.org/2000/svg\" height=\"24px\"viewBox=\"0 0 24 24\"\n",
              "       width=\"24px\">\n",
              "    <path d=\"M0 0h24v24H0V0z\" fill=\"none\"/>\n",
              "    <path d=\"M18.56 5.44l.94 2.06.94-2.06 2.06-.94-2.06-.94-.94-2.06-.94 2.06-2.06.94zm-11 1L8.5 8.5l.94-2.06 2.06-.94-2.06-.94L8.5 2.5l-.94 2.06-2.06.94zm10 10l.94 2.06.94-2.06 2.06-.94-2.06-.94-.94-2.06-.94 2.06-2.06.94z\"/><path d=\"M17.41 7.96l-1.37-1.37c-.4-.4-.92-.59-1.43-.59-.52 0-1.04.2-1.43.59L10.3 9.45l-7.72 7.72c-.78.78-.78 2.05 0 2.83L4 21.41c.39.39.9.59 1.41.59.51 0 1.02-.2 1.41-.59l7.78-7.78 2.81-2.81c.8-.78.8-2.07 0-2.86zM5.41 20L4 18.59l7.72-7.72 1.47 1.35L5.41 20z\"/>\n",
              "  </svg>\n",
              "      </button>\n",
              "      \n",
              "  <style>\n",
              "    .colab-df-container {\n",
              "      display:flex;\n",
              "      flex-wrap:wrap;\n",
              "      gap: 12px;\n",
              "    }\n",
              "\n",
              "    .colab-df-convert {\n",
              "      background-color: #E8F0FE;\n",
              "      border: none;\n",
              "      border-radius: 50%;\n",
              "      cursor: pointer;\n",
              "      display: none;\n",
              "      fill: #1967D2;\n",
              "      height: 32px;\n",
              "      padding: 0 0 0 0;\n",
              "      width: 32px;\n",
              "    }\n",
              "\n",
              "    .colab-df-convert:hover {\n",
              "      background-color: #E2EBFA;\n",
              "      box-shadow: 0px 1px 2px rgba(60, 64, 67, 0.3), 0px 1px 3px 1px rgba(60, 64, 67, 0.15);\n",
              "      fill: #174EA6;\n",
              "    }\n",
              "\n",
              "    [theme=dark] .colab-df-convert {\n",
              "      background-color: #3B4455;\n",
              "      fill: #D2E3FC;\n",
              "    }\n",
              "\n",
              "    [theme=dark] .colab-df-convert:hover {\n",
              "      background-color: #434B5C;\n",
              "      box-shadow: 0px 1px 3px 1px rgba(0, 0, 0, 0.15);\n",
              "      filter: drop-shadow(0px 1px 2px rgba(0, 0, 0, 0.3));\n",
              "      fill: #FFFFFF;\n",
              "    }\n",
              "  </style>\n",
              "\n",
              "      <script>\n",
              "        const buttonEl =\n",
              "          document.querySelector('#df-d88fb7ac-de2e-45b2-a091-d2317744dea6 button.colab-df-convert');\n",
              "        buttonEl.style.display =\n",
              "          google.colab.kernel.accessAllowed ? 'block' : 'none';\n",
              "\n",
              "        async function convertToInteractive(key) {\n",
              "          const element = document.querySelector('#df-d88fb7ac-de2e-45b2-a091-d2317744dea6');\n",
              "          const dataTable =\n",
              "            await google.colab.kernel.invokeFunction('convertToInteractive',\n",
              "                                                     [key], {});\n",
              "          if (!dataTable) return;\n",
              "\n",
              "          const docLinkHtml = 'Like what you see? Visit the ' +\n",
              "            '<a target=\"_blank\" href=https://colab.research.google.com/notebooks/data_table.ipynb>data table notebook</a>'\n",
              "            + ' to learn more about interactive tables.';\n",
              "          element.innerHTML = '';\n",
              "          dataTable['output_type'] = 'display_data';\n",
              "          await google.colab.output.renderOutput(dataTable, element);\n",
              "          const docLink = document.createElement('div');\n",
              "          docLink.innerHTML = docLinkHtml;\n",
              "          element.appendChild(docLink);\n",
              "        }\n",
              "      </script>\n",
              "    </div>\n",
              "  </div>\n",
              "  "
            ]
          },
          "metadata": {},
          "execution_count": 22
        }
      ]
    },
    {
      "cell_type": "code",
      "source": [
        "dados.dtypes #Verificando os tipos de dados das colunas"
      ],
      "metadata": {
        "colab": {
          "base_uri": "https://localhost:8080/"
        },
        "id": "YwOGPuSw-DpM",
        "outputId": "fe9a6c64-25fb-430e-ffe7-5f25815e51ee"
      },
      "execution_count": null,
      "outputs": [
        {
          "output_type": "execute_result",
          "data": {
            "text/plain": [
              "Unnamed: 0                        int64\n",
              "id_empregado                      int64\n",
              "departamento                     object\n",
              "regiao                           object\n",
              "educacao                         object\n",
              "genero                           object\n",
              "canal_de_recrutamento            object\n",
              "n_de_treinamentos                 int64\n",
              "idade                             int64\n",
              "pontuacao_ano_anterior          float64\n",
              "tempo_de_servico                  int64\n",
              "KPIs >80%                         int64\n",
              "venceu_premiacoes?                int64\n",
              "pontuacao_media_treinamentos      int64\n",
              "foi_promovido                     int64\n",
              "dtype: object"
            ]
          },
          "metadata": {},
          "execution_count": 23
        }
      ]
    },
    {
      "cell_type": "code",
      "source": [
        "dados.nunique() #Verificando os valores únicos de colunas"
      ],
      "metadata": {
        "colab": {
          "base_uri": "https://localhost:8080/"
        },
        "id": "JegmrVP7-ErB",
        "outputId": "25fd6ee3-0806-4eb6-a7a7-f324330c118f"
      },
      "execution_count": null,
      "outputs": [
        {
          "output_type": "execute_result",
          "data": {
            "text/plain": [
              "Unnamed: 0                      54808\n",
              "id_empregado                    54808\n",
              "departamento                        9\n",
              "regiao                             34\n",
              "educacao                            4\n",
              "genero                              2\n",
              "canal_de_recrutamento               3\n",
              "n_de_treinamentos                  10\n",
              "idade                              41\n",
              "pontuacao_ano_anterior              6\n",
              "tempo_de_servico                   35\n",
              "KPIs >80%                           2\n",
              "venceu_premiacoes?                  2\n",
              "pontuacao_media_treinamentos       61\n",
              "foi_promovido                       2\n",
              "dtype: int64"
            ]
          },
          "metadata": {},
          "execution_count": 24
        }
      ]
    },
    {
      "cell_type": "code",
      "source": [
        "dados.shape #Mostrando o tamanho do dataframe"
      ],
      "metadata": {
        "colab": {
          "base_uri": "https://localhost:8080/"
        },
        "id": "hhgyMaJK-F4u",
        "outputId": "88d5e07f-06df-4711-e4ce-cfec62d58aae"
      },
      "execution_count": null,
      "outputs": [
        {
          "output_type": "execute_result",
          "data": {
            "text/plain": [
              "(54808, 15)"
            ]
          },
          "metadata": {},
          "execution_count": 25
        }
      ]
    },
    {
      "cell_type": "code",
      "source": [
        "dados.describe()#Descrição detalhada "
      ],
      "metadata": {
        "colab": {
          "base_uri": "https://localhost:8080/",
          "height": 344
        },
        "id": "vlz8g40T-GwX",
        "outputId": "d65f0bfb-1575-409f-cb2e-c22a770fd967"
      },
      "execution_count": null,
      "outputs": [
        {
          "output_type": "execute_result",
          "data": {
            "text/plain": [
              "         Unnamed: 0  id_empregado  n_de_treinamentos         idade  \\\n",
              "count  54808.000000  54808.000000       54808.000000  54808.000000   \n",
              "mean   27403.500000  39195.830627           1.253011     34.803915   \n",
              "std    15821.851114  22586.581449           0.609264      7.660169   \n",
              "min        0.000000      1.000000           1.000000     20.000000   \n",
              "25%    13701.750000  19669.750000           1.000000     29.000000   \n",
              "50%    27403.500000  39225.500000           1.000000     33.000000   \n",
              "75%    41105.250000  58730.500000           1.000000     39.000000   \n",
              "max    54807.000000  78298.000000          10.000000     60.000000   \n",
              "\n",
              "       pontuacao_ano_anterior  tempo_de_servico     KPIs >80%  \\\n",
              "count            54808.000000      54808.000000  54808.000000   \n",
              "mean                 3.329256          5.865512      0.351974   \n",
              "std                  1.211661          4.265094      0.477590   \n",
              "min                  1.000000          1.000000      0.000000   \n",
              "25%                  3.000000          3.000000      0.000000   \n",
              "50%                  3.000000          5.000000      0.000000   \n",
              "75%                  4.000000          7.000000      1.000000   \n",
              "max                  5.000000         37.000000      1.000000   \n",
              "\n",
              "       venceu_premiacoes?  pontuacao_media_treinamentos  foi_promovido  \n",
              "count        54808.000000                  54808.000000   54808.000000  \n",
              "mean             0.023172                     63.386750       0.085170  \n",
              "std              0.150450                     13.371559       0.279137  \n",
              "min              0.000000                     39.000000       0.000000  \n",
              "25%              0.000000                     51.000000       0.000000  \n",
              "50%              0.000000                     60.000000       0.000000  \n",
              "75%              0.000000                     76.000000       0.000000  \n",
              "max              1.000000                     99.000000       1.000000  "
            ],
            "text/html": [
              "\n",
              "  <div id=\"df-d3298c2b-7e77-456a-a94e-cc6ffff8af7c\">\n",
              "    <div class=\"colab-df-container\">\n",
              "      <div>\n",
              "<style scoped>\n",
              "    .dataframe tbody tr th:only-of-type {\n",
              "        vertical-align: middle;\n",
              "    }\n",
              "\n",
              "    .dataframe tbody tr th {\n",
              "        vertical-align: top;\n",
              "    }\n",
              "\n",
              "    .dataframe thead th {\n",
              "        text-align: right;\n",
              "    }\n",
              "</style>\n",
              "<table border=\"1\" class=\"dataframe\">\n",
              "  <thead>\n",
              "    <tr style=\"text-align: right;\">\n",
              "      <th></th>\n",
              "      <th>Unnamed: 0</th>\n",
              "      <th>id_empregado</th>\n",
              "      <th>n_de_treinamentos</th>\n",
              "      <th>idade</th>\n",
              "      <th>pontuacao_ano_anterior</th>\n",
              "      <th>tempo_de_servico</th>\n",
              "      <th>KPIs &gt;80%</th>\n",
              "      <th>venceu_premiacoes?</th>\n",
              "      <th>pontuacao_media_treinamentos</th>\n",
              "      <th>foi_promovido</th>\n",
              "    </tr>\n",
              "  </thead>\n",
              "  <tbody>\n",
              "    <tr>\n",
              "      <th>count</th>\n",
              "      <td>54808.000000</td>\n",
              "      <td>54808.000000</td>\n",
              "      <td>54808.000000</td>\n",
              "      <td>54808.000000</td>\n",
              "      <td>54808.000000</td>\n",
              "      <td>54808.000000</td>\n",
              "      <td>54808.000000</td>\n",
              "      <td>54808.000000</td>\n",
              "      <td>54808.000000</td>\n",
              "      <td>54808.000000</td>\n",
              "    </tr>\n",
              "    <tr>\n",
              "      <th>mean</th>\n",
              "      <td>27403.500000</td>\n",
              "      <td>39195.830627</td>\n",
              "      <td>1.253011</td>\n",
              "      <td>34.803915</td>\n",
              "      <td>3.329256</td>\n",
              "      <td>5.865512</td>\n",
              "      <td>0.351974</td>\n",
              "      <td>0.023172</td>\n",
              "      <td>63.386750</td>\n",
              "      <td>0.085170</td>\n",
              "    </tr>\n",
              "    <tr>\n",
              "      <th>std</th>\n",
              "      <td>15821.851114</td>\n",
              "      <td>22586.581449</td>\n",
              "      <td>0.609264</td>\n",
              "      <td>7.660169</td>\n",
              "      <td>1.211661</td>\n",
              "      <td>4.265094</td>\n",
              "      <td>0.477590</td>\n",
              "      <td>0.150450</td>\n",
              "      <td>13.371559</td>\n",
              "      <td>0.279137</td>\n",
              "    </tr>\n",
              "    <tr>\n",
              "      <th>min</th>\n",
              "      <td>0.000000</td>\n",
              "      <td>1.000000</td>\n",
              "      <td>1.000000</td>\n",
              "      <td>20.000000</td>\n",
              "      <td>1.000000</td>\n",
              "      <td>1.000000</td>\n",
              "      <td>0.000000</td>\n",
              "      <td>0.000000</td>\n",
              "      <td>39.000000</td>\n",
              "      <td>0.000000</td>\n",
              "    </tr>\n",
              "    <tr>\n",
              "      <th>25%</th>\n",
              "      <td>13701.750000</td>\n",
              "      <td>19669.750000</td>\n",
              "      <td>1.000000</td>\n",
              "      <td>29.000000</td>\n",
              "      <td>3.000000</td>\n",
              "      <td>3.000000</td>\n",
              "      <td>0.000000</td>\n",
              "      <td>0.000000</td>\n",
              "      <td>51.000000</td>\n",
              "      <td>0.000000</td>\n",
              "    </tr>\n",
              "    <tr>\n",
              "      <th>50%</th>\n",
              "      <td>27403.500000</td>\n",
              "      <td>39225.500000</td>\n",
              "      <td>1.000000</td>\n",
              "      <td>33.000000</td>\n",
              "      <td>3.000000</td>\n",
              "      <td>5.000000</td>\n",
              "      <td>0.000000</td>\n",
              "      <td>0.000000</td>\n",
              "      <td>60.000000</td>\n",
              "      <td>0.000000</td>\n",
              "    </tr>\n",
              "    <tr>\n",
              "      <th>75%</th>\n",
              "      <td>41105.250000</td>\n",
              "      <td>58730.500000</td>\n",
              "      <td>1.000000</td>\n",
              "      <td>39.000000</td>\n",
              "      <td>4.000000</td>\n",
              "      <td>7.000000</td>\n",
              "      <td>1.000000</td>\n",
              "      <td>0.000000</td>\n",
              "      <td>76.000000</td>\n",
              "      <td>0.000000</td>\n",
              "    </tr>\n",
              "    <tr>\n",
              "      <th>max</th>\n",
              "      <td>54807.000000</td>\n",
              "      <td>78298.000000</td>\n",
              "      <td>10.000000</td>\n",
              "      <td>60.000000</td>\n",
              "      <td>5.000000</td>\n",
              "      <td>37.000000</td>\n",
              "      <td>1.000000</td>\n",
              "      <td>1.000000</td>\n",
              "      <td>99.000000</td>\n",
              "      <td>1.000000</td>\n",
              "    </tr>\n",
              "  </tbody>\n",
              "</table>\n",
              "</div>\n",
              "      <button class=\"colab-df-convert\" onclick=\"convertToInteractive('df-d3298c2b-7e77-456a-a94e-cc6ffff8af7c')\"\n",
              "              title=\"Convert this dataframe to an interactive table.\"\n",
              "              style=\"display:none;\">\n",
              "        \n",
              "  <svg xmlns=\"http://www.w3.org/2000/svg\" height=\"24px\"viewBox=\"0 0 24 24\"\n",
              "       width=\"24px\">\n",
              "    <path d=\"M0 0h24v24H0V0z\" fill=\"none\"/>\n",
              "    <path d=\"M18.56 5.44l.94 2.06.94-2.06 2.06-.94-2.06-.94-.94-2.06-.94 2.06-2.06.94zm-11 1L8.5 8.5l.94-2.06 2.06-.94-2.06-.94L8.5 2.5l-.94 2.06-2.06.94zm10 10l.94 2.06.94-2.06 2.06-.94-2.06-.94-.94-2.06-.94 2.06-2.06.94z\"/><path d=\"M17.41 7.96l-1.37-1.37c-.4-.4-.92-.59-1.43-.59-.52 0-1.04.2-1.43.59L10.3 9.45l-7.72 7.72c-.78.78-.78 2.05 0 2.83L4 21.41c.39.39.9.59 1.41.59.51 0 1.02-.2 1.41-.59l7.78-7.78 2.81-2.81c.8-.78.8-2.07 0-2.86zM5.41 20L4 18.59l7.72-7.72 1.47 1.35L5.41 20z\"/>\n",
              "  </svg>\n",
              "      </button>\n",
              "      \n",
              "  <style>\n",
              "    .colab-df-container {\n",
              "      display:flex;\n",
              "      flex-wrap:wrap;\n",
              "      gap: 12px;\n",
              "    }\n",
              "\n",
              "    .colab-df-convert {\n",
              "      background-color: #E8F0FE;\n",
              "      border: none;\n",
              "      border-radius: 50%;\n",
              "      cursor: pointer;\n",
              "      display: none;\n",
              "      fill: #1967D2;\n",
              "      height: 32px;\n",
              "      padding: 0 0 0 0;\n",
              "      width: 32px;\n",
              "    }\n",
              "\n",
              "    .colab-df-convert:hover {\n",
              "      background-color: #E2EBFA;\n",
              "      box-shadow: 0px 1px 2px rgba(60, 64, 67, 0.3), 0px 1px 3px 1px rgba(60, 64, 67, 0.15);\n",
              "      fill: #174EA6;\n",
              "    }\n",
              "\n",
              "    [theme=dark] .colab-df-convert {\n",
              "      background-color: #3B4455;\n",
              "      fill: #D2E3FC;\n",
              "    }\n",
              "\n",
              "    [theme=dark] .colab-df-convert:hover {\n",
              "      background-color: #434B5C;\n",
              "      box-shadow: 0px 1px 3px 1px rgba(0, 0, 0, 0.15);\n",
              "      filter: drop-shadow(0px 1px 2px rgba(0, 0, 0, 0.3));\n",
              "      fill: #FFFFFF;\n",
              "    }\n",
              "  </style>\n",
              "\n",
              "      <script>\n",
              "        const buttonEl =\n",
              "          document.querySelector('#df-d3298c2b-7e77-456a-a94e-cc6ffff8af7c button.colab-df-convert');\n",
              "        buttonEl.style.display =\n",
              "          google.colab.kernel.accessAllowed ? 'block' : 'none';\n",
              "\n",
              "        async function convertToInteractive(key) {\n",
              "          const element = document.querySelector('#df-d3298c2b-7e77-456a-a94e-cc6ffff8af7c');\n",
              "          const dataTable =\n",
              "            await google.colab.kernel.invokeFunction('convertToInteractive',\n",
              "                                                     [key], {});\n",
              "          if (!dataTable) return;\n",
              "\n",
              "          const docLinkHtml = 'Like what you see? Visit the ' +\n",
              "            '<a target=\"_blank\" href=https://colab.research.google.com/notebooks/data_table.ipynb>data table notebook</a>'\n",
              "            + ' to learn more about interactive tables.';\n",
              "          element.innerHTML = '';\n",
              "          dataTable['output_type'] = 'display_data';\n",
              "          await google.colab.output.renderOutput(dataTable, element);\n",
              "          const docLink = document.createElement('div');\n",
              "          docLink.innerHTML = docLinkHtml;\n",
              "          element.appendChild(docLink);\n",
              "        }\n",
              "      </script>\n",
              "    </div>\n",
              "  </div>\n",
              "  "
            ]
          },
          "metadata": {},
          "execution_count": 26
        }
      ]
    },
    {
      "cell_type": "code",
      "source": [
        "dados.isnull().sum() #Verificando a existência de valores nulos (Limpeza de dados feita no Sprint 3 )"
      ],
      "metadata": {
        "colab": {
          "base_uri": "https://localhost:8080/"
        },
        "id": "GVYglwRJ-PWH",
        "outputId": "ecf72a92-0167-48da-a82b-078eba2d8fb0"
      },
      "execution_count": null,
      "outputs": [
        {
          "output_type": "execute_result",
          "data": {
            "text/plain": [
              "Unnamed: 0                      0\n",
              "id_empregado                    0\n",
              "departamento                    0\n",
              "regiao                          0\n",
              "educacao                        0\n",
              "genero                          0\n",
              "canal_de_recrutamento           0\n",
              "n_de_treinamentos               0\n",
              "idade                           0\n",
              "pontuacao_ano_anterior          0\n",
              "tempo_de_servico                0\n",
              "KPIs >80%                       0\n",
              "venceu_premiacoes?              0\n",
              "pontuacao_media_treinamentos    0\n",
              "foi_promovido                   0\n",
              "dtype: int64"
            ]
          },
          "metadata": {},
          "execution_count": 27
        }
      ]
    },
    {
      "cell_type": "code",
      "source": [
        "dados['educacao'].value_counts() #Verificando a quantidade de pessoas em cada tipo de escolaridade"
      ],
      "metadata": {
        "colab": {
          "base_uri": "https://localhost:8080/"
        },
        "id": "DtCTGiZA-aCk",
        "outputId": "add75648-8aa6-4558-eff8-7d0c7d366014"
      },
      "execution_count": null,
      "outputs": [
        {
          "output_type": "execute_result",
          "data": {
            "text/plain": [
              "Bacharelado               36669\n",
              "Mestrado & acima          14925\n",
              "Outros                     2409\n",
              "Abaixo do ensino medio      805\n",
              "Name: educacao, dtype: int64"
            ]
          },
          "metadata": {},
          "execution_count": 28
        }
      ]
    },
    {
      "cell_type": "code",
      "source": [
        "dados['pontuacao_ano_anterior'].value_counts() #Verificando a quantidade de pessoas de acordo com a pontuação de 1.0 a 5.0"
      ],
      "metadata": {
        "colab": {
          "base_uri": "https://localhost:8080/"
        },
        "id": "CU21ZQ2l-cy3",
        "outputId": "aa0ff362-1a80-497b-da52-c88a587ade4e"
      },
      "execution_count": null,
      "outputs": [
        {
          "output_type": "execute_result",
          "data": {
            "text/plain": [
              "3.000000    18618\n",
              "5.000000    11741\n",
              "4.000000     9877\n",
              "1.000000     6223\n",
              "2.000000     4225\n",
              "3.329256     4124\n",
              "Name: pontuacao_ano_anterior, dtype: int64"
            ]
          },
          "metadata": {},
          "execution_count": 29
        }
      ]
    },
    {
      "cell_type": "code",
      "source": [
        "dados['departamento'].value_counts() #Verificando a quantidade de pessoas em cada departamento"
      ],
      "metadata": {
        "colab": {
          "base_uri": "https://localhost:8080/"
        },
        "id": "jqzXihzX-gGs",
        "outputId": "07b1d98d-130f-40d6-ea8d-a3246b50a69b"
      },
      "execution_count": null,
      "outputs": [
        {
          "output_type": "execute_result",
          "data": {
            "text/plain": [
              "Vendas & Marketing            16840\n",
              "Operacoes                     11348\n",
              "Tecnologia                     7138\n",
              "Compras                        7138\n",
              "Analise                        5352\n",
              "Financeiro                     2536\n",
              "RH                             2418\n",
              "Legal                          1039\n",
              "Pesquisa & Desenvolvimento      999\n",
              "Name: departamento, dtype: int64"
            ]
          },
          "metadata": {},
          "execution_count": 30
        }
      ]
    },
    {
      "cell_type": "code",
      "source": [
        "dados['regiao'].value_counts() #Verificando a quantidade de pessoas em cada região"
      ],
      "metadata": {
        "colab": {
          "base_uri": "https://localhost:8080/"
        },
        "id": "mXERpNeK-jIQ",
        "outputId": "9a9e70f3-97f6-466c-9b28-b83d300c6a2e"
      },
      "execution_count": null,
      "outputs": [
        {
          "output_type": "execute_result",
          "data": {
            "text/plain": [
              "regiao_2     12343\n",
              "regiao_22     6428\n",
              "regiao_7      4843\n",
              "regiao_15     2808\n",
              "regiao_13     2648\n",
              "regiao_26     2260\n",
              "regiao_31     1935\n",
              "regiao_4      1703\n",
              "regiao_27     1659\n",
              "regiao_16     1465\n",
              "regiao_28     1318\n",
              "regiao_11     1315\n",
              "regiao_23     1175\n",
              "regiao_29      994\n",
              "regiao_32      945\n",
              "regiao_19      874\n",
              "regiao_20      850\n",
              "regiao_14      827\n",
              "regiao_25      819\n",
              "regiao_17      796\n",
              "regiao_5       766\n",
              "regiao_6       690\n",
              "regiao_30      657\n",
              "regiao_8       655\n",
              "regiao_10      648\n",
              "regiao_1       610\n",
              "regiao_24      508\n",
              "regiao_12      500\n",
              "regiao_9       420\n",
              "regiao_21      411\n",
              "regiao_3       346\n",
              "regiao_34      292\n",
              "regiao_33      269\n",
              "regiao_18       31\n",
              "Name: regiao, dtype: int64"
            ]
          },
          "metadata": {},
          "execution_count": 31
        }
      ]
    },
    {
      "cell_type": "code",
      "source": [
        "dados['genero'].value_counts() #Verificando a quantidade de gêneros"
      ],
      "metadata": {
        "colab": {
          "base_uri": "https://localhost:8080/"
        },
        "id": "ICEstpBy-mI-",
        "outputId": "7888e291-7f73-4a31-dcb6-83e96fb4c523"
      },
      "execution_count": null,
      "outputs": [
        {
          "output_type": "execute_result",
          "data": {
            "text/plain": [
              "M    38496\n",
              "F    16312\n",
              "Name: genero, dtype: int64"
            ]
          },
          "metadata": {},
          "execution_count": 32
        }
      ]
    },
    {
      "cell_type": "code",
      "source": [
        "dados['canal_de_recrutamento'].value_counts() #Verificando a forma de como foram contratados"
      ],
      "metadata": {
        "colab": {
          "base_uri": "https://localhost:8080/"
        },
        "id": "nhSBKPBO-7NU",
        "outputId": "7a353695-a947-4fd8-bf22-8f06f2b9d184"
      },
      "execution_count": null,
      "outputs": [
        {
          "output_type": "execute_result",
          "data": {
            "text/plain": [
              "outros               30446\n",
              "processo seletivo    23220\n",
              "indicacao             1142\n",
              "Name: canal_de_recrutamento, dtype: int64"
            ]
          },
          "metadata": {},
          "execution_count": 33
        }
      ]
    },
    {
      "cell_type": "code",
      "source": [
        "dados['n_de_treinamentos'].value_counts() #Verificando a quantidade de vezes que passaram por um treinamento"
      ],
      "metadata": {
        "colab": {
          "base_uri": "https://localhost:8080/"
        },
        "id": "j8210_aG-84g",
        "outputId": "fd462c8d-c157-4185-c92b-086069f9726c"
      },
      "execution_count": null,
      "outputs": [
        {
          "output_type": "execute_result",
          "data": {
            "text/plain": [
              "1     44378\n",
              "2      7987\n",
              "3      1776\n",
              "4       468\n",
              "5       128\n",
              "6        44\n",
              "7        12\n",
              "8         5\n",
              "10        5\n",
              "9         5\n",
              "Name: n_de_treinamentos, dtype: int64"
            ]
          },
          "metadata": {},
          "execution_count": 34
        }
      ]
    },
    {
      "cell_type": "code",
      "source": [
        "dados['pontuacao_media_treinamentos'].value_counts() #Verificando a pontuação média dos treinamentos"
      ],
      "metadata": {
        "colab": {
          "base_uri": "https://localhost:8080/"
        },
        "id": "3awI0h2B--I-",
        "outputId": "4b8dff9d-41d2-47d9-db38-8cfd77312b12"
      },
      "execution_count": null,
      "outputs": [
        {
          "output_type": "execute_result",
          "data": {
            "text/plain": [
              "50    2716\n",
              "49    2681\n",
              "48    2437\n",
              "51    2347\n",
              "60    2155\n",
              "      ... \n",
              "98      37\n",
              "99      35\n",
              "41      26\n",
              "40       5\n",
              "39       2\n",
              "Name: pontuacao_media_treinamentos, Length: 61, dtype: int64"
            ]
          },
          "metadata": {},
          "execution_count": 35
        }
      ]
    },
    {
      "cell_type": "code",
      "source": [
        "dados['idade'].value_counts() #Verificando a quantidade de pessoas com a respectiva idade       "
      ],
      "metadata": {
        "colab": {
          "base_uri": "https://localhost:8080/"
        },
        "id": "R3yDK5EH-_hm",
        "outputId": "eb7264e1-c7a5-470c-ae31-6b0011c78dce"
      },
      "execution_count": null,
      "outputs": [
        {
          "output_type": "execute_result",
          "data": {
            "text/plain": [
              "30    3665\n",
              "32    3534\n",
              "31    3534\n",
              "29    3405\n",
              "33    3210\n",
              "28    3147\n",
              "34    3076\n",
              "27    2827\n",
              "35    2711\n",
              "36    2517\n",
              "37    2165\n",
              "26    2060\n",
              "38    1923\n",
              "39    1695\n",
              "40    1663\n",
              "25    1299\n",
              "41    1289\n",
              "42    1149\n",
              "43     992\n",
              "44     847\n",
              "24     845\n",
              "45     760\n",
              "46     697\n",
              "48     557\n",
              "47     557\n",
              "50     521\n",
              "49     441\n",
              "23     428\n",
              "51     389\n",
              "53     364\n",
              "52     351\n",
              "54     313\n",
              "55     294\n",
              "56     264\n",
              "57     238\n",
              "22     231\n",
              "60     217\n",
              "58     213\n",
              "59     209\n",
              "20     113\n",
              "21      98\n",
              "Name: idade, dtype: int64"
            ]
          },
          "metadata": {},
          "execution_count": 36
        }
      ]
    },
    {
      "cell_type": "code",
      "source": [
        "dados['tempo_de_servico'].value_counts() #Verificando o tempo de serviço das pessoas"
      ],
      "metadata": {
        "colab": {
          "base_uri": "https://localhost:8080/"
        },
        "id": "OtD11XXo_AoL",
        "outputId": "2970e8ad-b23c-430d-9dcf-9677f4f5a336"
      },
      "execution_count": null,
      "outputs": [
        {
          "output_type": "execute_result",
          "data": {
            "text/plain": [
              "3     7033\n",
              "4     6836\n",
              "2     6684\n",
              "5     5832\n",
              "7     5551\n",
              "6     4734\n",
              "1     4547\n",
              "8     2883\n",
              "9     2629\n",
              "10    2193\n",
              "11     916\n",
              "12     794\n",
              "13     687\n",
              "15     593\n",
              "14     549\n",
              "16     548\n",
              "17     432\n",
              "18     392\n",
              "19     329\n",
              "20     128\n",
              "21      78\n",
              "24      70\n",
              "23      65\n",
              "22      61\n",
              "25      51\n",
              "26      41\n",
              "27      36\n",
              "28      30\n",
              "29      30\n",
              "31      20\n",
              "30      12\n",
              "32      10\n",
              "33       9\n",
              "34       4\n",
              "37       1\n",
              "Name: tempo_de_servico, dtype: int64"
            ]
          },
          "metadata": {},
          "execution_count": 37
        }
      ]
    },
    {
      "cell_type": "code",
      "source": [
        "dados['venceu_premiacoes?'].value_counts() #Verificando se as pessoas ganharam alguma premiação"
      ],
      "metadata": {
        "colab": {
          "base_uri": "https://localhost:8080/"
        },
        "id": "ksorON2u_CLL",
        "outputId": "6c0254f5-796c-4fd9-e6be-3f28a9536170"
      },
      "execution_count": null,
      "outputs": [
        {
          "output_type": "execute_result",
          "data": {
            "text/plain": [
              "0    53538\n",
              "1     1270\n",
              "Name: venceu_premiacoes?, dtype: int64"
            ]
          },
          "metadata": {},
          "execution_count": 38
        }
      ]
    },
    {
      "cell_type": "code",
      "source": [
        "dados['KPIs >80%'].value_counts() #Verificando se as pessoas possuem um KPI maior do que 80%"
      ],
      "metadata": {
        "colab": {
          "base_uri": "https://localhost:8080/"
        },
        "id": "OEOYmKrS_DCZ",
        "outputId": "307ac37c-0e6d-4602-e2b4-abd3a53062f0"
      },
      "execution_count": null,
      "outputs": [
        {
          "output_type": "execute_result",
          "data": {
            "text/plain": [
              "0    35517\n",
              "1    19291\n",
              "Name: KPIs >80%, dtype: int64"
            ]
          },
          "metadata": {},
          "execution_count": 39
        }
      ]
    },
    {
      "cell_type": "code",
      "source": [
        "dados['foi_promovido'].value_counts() #Verificando a quantidade de pessoas que foram promovidas"
      ],
      "metadata": {
        "colab": {
          "base_uri": "https://localhost:8080/"
        },
        "id": "pk38Xu30_D7P",
        "outputId": "468131be-c1d1-4a5f-fad2-ffd7007a3767"
      },
      "execution_count": null,
      "outputs": [
        {
          "output_type": "execute_result",
          "data": {
            "text/plain": [
              "0    50140\n",
              "1     4668\n",
              "Name: foi_promovido, dtype: int64"
            ]
          },
          "metadata": {},
          "execution_count": 40
        }
      ]
    },
    {
      "cell_type": "markdown",
      "source": [
        "# Utilizando Algoritmos supervisionados - Regressão\n"
      ],
      "metadata": {
        "id": "263TRxCU5rjQ"
      }
    },
    {
      "cell_type": "markdown",
      "source": [
        "Regressão Simples\n"
      ],
      "metadata": {
        "id": "yw6JF_zaN3nm"
      }
    },
    {
      "cell_type": "code",
      "source": [
        "#Dado e Label\n",
        "\n",
        "X = np.array(dados['idade']).reshape(-1, 1)\n",
        "y = dados['tempo_de_servico']\n",
        "\n",
        "#Treino e teste\n",
        "\n",
        "X_train, X_test, y_train, y_test = train_test_split(X,\n",
        "                                                    y,\n",
        "                                                    test_size=0.3,\n",
        "                                                    random_state=42)"
      ],
      "metadata": {
        "id": "WFWgC8-65pIB"
      },
      "execution_count": null,
      "outputs": []
    },
    {
      "cell_type": "code",
      "source": [
        "#Criação do modelo linear simples\n",
        "\n",
        "reta = LinearRegression()\n",
        "reta.fit(X_train, y_train)\n",
        "y_pred = reta.predict(X_test)"
      ],
      "metadata": {
        "id": "j51Mftrw7EBK"
      },
      "execution_count": null,
      "outputs": []
    },
    {
      "cell_type": "code",
      "source": [
        "#Avaliando o modelo\n",
        "\n",
        "mse = mean_squared_error(y_test, y_pred) # Erro Quadrático Médio - Penaliza erros maiores\n",
        "mae = mean_absolute_error(y_test, y_pred) # Erro Absoluto Médio - Realiza a média do erro absoluto\n",
        "r2 = r2_score(y_test, y_pred) # Indicador de qualidade do modelo ( Quanto maior o valor, melhor o modelo)\n",
        "\n",
        "print(f'MSE: {mse}')\n",
        "print(f'MAE: {mae}')\n",
        "print(f'R²: {r2}')"
      ],
      "metadata": {
        "colab": {
          "base_uri": "https://localhost:8080/"
        },
        "id": "JM1sfVbc7wZR",
        "outputId": "4a2825c0-0ec8-4514-e8b4-8dbacb2dac98"
      },
      "execution_count": null,
      "outputs": [
        {
          "output_type": "stream",
          "name": "stdout",
          "text": [
            "MSE: 10.46944968807384\n",
            "MAE: 2.4117604343846626\n",
            "R²: 0.4229890605060699\n"
          ]
        }
      ]
    },
    {
      "cell_type": "code",
      "source": [
        "#Plotagem\n",
        "\n",
        "plt.scatter(X_test, y_test, label ='Observações')\n",
        "plt.plot (X_test, y_pred, label='Modelo', color = 'red')\n",
        "plt.xlabel('Idade dos funcionários')\n",
        "plt.ylabel('Tempo de serviço')\n",
        "plt.title('Relação entre a idade e o tempo de serviço')\n",
        "plt.legend()\n",
        "plt.show()\n"
      ],
      "metadata": {
        "colab": {
          "base_uri": "https://localhost:8080/",
          "height": 295
        },
        "id": "IkzBmVd-87dV",
        "outputId": "65d85161-9511-4eee-d7ad-1ab77385be07"
      },
      "execution_count": null,
      "outputs": [
        {
          "output_type": "display_data",
          "data": {
            "text/plain": [
              "<Figure size 432x288 with 1 Axes>"
            ],
            "image/png": "[encoded data removed]"
          },
          "metadata": {
            "needs_background": "light"
          }
        }
      ]
    },
    {
      "cell_type": "markdown",
      "source": [
        "Regressão Múltipla\n"
      ],
      "metadata": {
        "id": "D2ghrTpfN8LE"
      }
    },
    {
      "cell_type": "code",
      "source": [
        "#Transformando String em Integer\n",
        "def sexo(x):\n",
        "  if x=='M':\n",
        "    return 0\n",
        "  else:\n",
        "    return 1\n",
        "\n",
        "dados['genero'] = dados['genero'].apply(sexo)"
      ],
      "metadata": {
        "id": "fEMHagu0OeJ-"
      },
      "execution_count": null,
      "outputs": []
    },
    {
      "cell_type": "code",
      "source": [
        "#Dados e label\n",
        "\n",
        "X = dados.drop(columns=['departamento', 'regiao','educacao', 'canal_de_recrutamento'])\n",
        "y = dados['genero']\n",
        "\n"
      ],
      "metadata": {
        "id": "3i21-_Q_N-rZ"
      },
      "execution_count": null,
      "outputs": []
    },
    {
      "cell_type": "code",
      "source": [
        "# TREINO e TESTE\n",
        "\n",
        "X_train, X_test, y_train, y_test = train_test_split(X,\n",
        "                                                    y,\n",
        "                                                    test_size=0.3,\n",
        "                                                    random_state=42)"
      ],
      "metadata": {
        "id": "Ojg-_0ZyOo8V"
      },
      "execution_count": null,
      "outputs": []
    },
    {
      "cell_type": "code",
      "source": [
        "#Padronização de dados\n",
        "\n",
        "scaler = StandardScaler()\n",
        "X_train_scaled = scaler.fit_transform(X_train)\n",
        "X_test_scaled = scaler.transform(X_test)"
      ],
      "metadata": {
        "id": "cOgWSOVLOpET"
      },
      "execution_count": null,
      "outputs": []
    },
    {
      "cell_type": "code",
      "source": [
        "#Criação do modelo\n",
        "\n",
        "reta2 = LinearRegression()\n",
        "reta2.fit(X_train_scaled, y_train)\n",
        "y_pred = reta2.predict(X_test_scaled)"
      ],
      "metadata": {
        "id": "yzoBwJhMOvJt"
      },
      "execution_count": null,
      "outputs": []
    },
    {
      "cell_type": "code",
      "source": [
        "#Avaliando o modelo\n",
        "\n",
        "mse = mean_squared_error(y_test, y_pred)\n",
        "mae = mean_absolute_error(y_test, y_pred)\n",
        "r2 = r2_score(y_test, y_pred)\n",
        "\n",
        "print(f\"MSE: {mse}\")\n",
        "print(f\"MAE: {mae}\")\n",
        "print(f\"R²: {r2}\")"
      ],
      "metadata": {
        "colab": {
          "base_uri": "https://localhost:8080/"
        },
        "id": "LSxxYWP9OyKe",
        "outputId": "f8f83ba8-55e9-475d-b224-70ec5d08c1a8"
      },
      "execution_count": null,
      "outputs": [
        {
          "output_type": "stream",
          "name": "stdout",
          "text": [
            "MSE: 1.1917016852943126e-31\n",
            "MAE: 2.625934364909644e-16\n",
            "R²: 1.0\n"
          ]
        }
      ]
    },
    {
      "cell_type": "code",
      "source": [
        "#Verificando os coeficientes\n",
        "reta2.coef_"
      ],
      "metadata": {
        "colab": {
          "base_uri": "https://localhost:8080/"
        },
        "id": "1FsAOaNLO15U",
        "outputId": "f3308380-3d31-49a9-bff5-703afc285229"
      },
      "execution_count": null,
      "outputs": [
        {
          "output_type": "execute_result",
          "data": {
            "text/plain": [
              "array([-2.30173980e-17,  5.55111512e-17,  4.56595261e-01,  2.15105711e-16,\n",
              "        3.46944695e-18,  1.90819582e-16, -1.73472348e-17,  0.00000000e+00,\n",
              "       -4.77048956e-17, -1.52655666e-16, -9.71445147e-17])"
            ]
          },
          "metadata": {},
          "execution_count": 51
        }
      ]
    },
    {
      "cell_type": "code",
      "source": [
        "# Onde o modelo corta o eixo y?\n",
        "reta2.intercept_"
      ],
      "metadata": {
        "colab": {
          "base_uri": "https://localhost:8080/"
        },
        "id": "bBIMdt76O7ns",
        "outputId": "37000f2b-c00f-4ee9-88c1-c8115749816e"
      },
      "execution_count": null,
      "outputs": [
        {
          "output_type": "execute_result",
          "data": {
            "text/plain": [
              "0.2962335462009645"
            ]
          },
          "metadata": {},
          "execution_count": 52
        }
      ]
    },
    {
      "cell_type": "markdown",
      "source": [
        "# Utilizando Algoritmos supervisionados - Classificação"
      ],
      "metadata": {
        "id": "LqaO4hyq73nW"
      }
    },
    {
      "cell_type": "code",
      "source": [
        "#Utilizando as colunas: Número de treinamenos, idade e pontuação do ano anterior\n",
        "data = dados.iloc[:,[8,9]]\n",
        "labels = dados.iloc[:,[10]]"
      ],
      "metadata": {
        "id": "Yc_m23smZ6K_"
      },
      "execution_count": null,
      "outputs": []
    },
    {
      "cell_type": "code",
      "source": [
        "#Treino e teste\n",
        "X_train, X_test, y_train, y_test = train_test_split(data,\n",
        "                                                    labels,\n",
        "                                                    test_size=0.3,\n",
        "                                                    random_state=42)"
      ],
      "metadata": {
        "id": "ih2uqXeWLv-i"
      },
      "execution_count": null,
      "outputs": []
    },
    {
      "cell_type": "code",
      "source": [
        "#Prints dos treinos e testes\n",
        "print('N dados : ', len(data))\n",
        "print('X_train : ', len(X_train))\n",
        "print('X_test : ', len(X_test))\n",
        "print('y_train : ', len(y_train))\n",
        "print('y_test : ', len(y_test))"
      ],
      "metadata": {
        "colab": {
          "base_uri": "https://localhost:8080/"
        },
        "id": "AYaoa8aSLxa6",
        "outputId": "1458579c-728d-42ff-bafd-281fed1e7273"
      },
      "execution_count": null,
      "outputs": [
        {
          "output_type": "stream",
          "name": "stdout",
          "text": [
            "N dados :  54808\n",
            "X_train :  38365\n",
            "X_test :  16443\n",
            "y_train :  38365\n",
            "y_test :  16443\n"
          ]
        }
      ]
    },
    {
      "cell_type": "markdown",
      "source": [
        "KNN com dados FORA DE ESCALA"
      ],
      "metadata": {
        "id": "FYb1xY-yL0hc"
      }
    },
    {
      "cell_type": "code",
      "source": [
        "# Define o modelo preditivo\n",
        "modelo = KNeighborsClassifier(n_neighbors=5)\n",
        "\n",
        "# Treina o modelo\n",
        "modelo.fit(X_train, y_train)\n",
        "\n",
        "# Avaliar o modelo\n",
        "y_pred = modelo.predict(X_test)\n",
        "acc = metrics.accuracy_score(y_test, y_pred)\n",
        "print(f\"ACC: {acc:.4f}\")"
      ],
      "metadata": {
        "colab": {
          "base_uri": "https://localhost:8080/"
        },
        "id": "KUKS9BvLL0CC",
        "outputId": "e3846bba-61ce-44a1-e621-0e6fa2e69481"
      },
      "execution_count": null,
      "outputs": [
        {
          "output_type": "stream",
          "name": "stdout",
          "text": [
            "ACC: 0.2233\n"
          ]
        }
      ]
    },
    {
      "cell_type": "code",
      "source": [
        "def meu_knn(X_tr, X_ts, y_tr, y_ts, k=0):\n",
        "\n",
        "  #Definindo o modelo preditivo\n",
        "  if k==0:\n",
        "    k = int( (len(y_tr)+len(y_ts)) ** 0.5 )\n",
        "\n",
        "  modelo = KNeighborsClassifier(n_neighbors=k)\n",
        "\n",
        "  #Treinando o modelo\n",
        "  modelo.fit(X_tr, y_tr)\n",
        "\n",
        "  #Avaliando o modelo\n",
        "  y_pred = modelo.predict(X_ts)\n",
        "  acc = metrics.accuracy_score(y_ts, y_pred)\n",
        "  \n",
        "  print(f\"k:{k}\\tACC: {acc:.4f}\")"
      ],
      "metadata": {
        "id": "uQBcpZ61L5ni"
      },
      "execution_count": null,
      "outputs": []
    },
    {
      "cell_type": "code",
      "source": [
        "meu_knn(X_train, X_test, y_train, y_test, 5)"
      ],
      "metadata": {
        "colab": {
          "base_uri": "https://localhost:8080/"
        },
        "id": "OHHZG1k_L7ij",
        "outputId": "441335f7-994c-479b-a9cd-7685e8119f47"
      },
      "execution_count": null,
      "outputs": [
        {
          "output_type": "stream",
          "name": "stdout",
          "text": [
            "k:5\tACC: 0.2233\n"
          ]
        }
      ]
    },
    {
      "cell_type": "code",
      "source": [
        "meu_knn(X_train, X_test, y_train, y_test, 7)"
      ],
      "metadata": {
        "colab": {
          "base_uri": "https://localhost:8080/"
        },
        "id": "4WZOkwesL8Kr",
        "outputId": "1fa52af3-b0a1-4bea-ac12-e671c19b062e"
      },
      "execution_count": null,
      "outputs": [
        {
          "output_type": "stream",
          "name": "stdout",
          "text": [
            "k:7\tACC: 0.2250\n"
          ]
        }
      ]
    },
    {
      "cell_type": "code",
      "source": [
        "meu_knn(X_train, X_test, y_train, y_test, 9)"
      ],
      "metadata": {
        "colab": {
          "base_uri": "https://localhost:8080/"
        },
        "id": "D5zqhHcgL8aS",
        "outputId": "20593ed1-f8fb-4a98-bf4c-97b5206356fb"
      },
      "execution_count": null,
      "outputs": [
        {
          "output_type": "stream",
          "name": "stdout",
          "text": [
            "k:9\tACC: 0.2282\n"
          ]
        }
      ]
    },
    {
      "cell_type": "code",
      "source": [
        "meu_knn(X_train, X_test, y_train, y_test)"
      ],
      "metadata": {
        "colab": {
          "base_uri": "https://localhost:8080/"
        },
        "id": "MlnjzqNBL8fi",
        "outputId": "f645a874-32a7-4de7-f77d-d2d8ec181028"
      },
      "execution_count": null,
      "outputs": [
        {
          "output_type": "stream",
          "name": "stdout",
          "text": [
            "k:234\tACC: 0.2369\n"
          ]
        }
      ]
    },
    {
      "cell_type": "markdown",
      "source": [
        "KNN com DADOS ESCALADOS"
      ],
      "metadata": {
        "id": "EDpGekUsMDiF"
      }
    },
    {
      "cell_type": "code",
      "source": [
        "#Padronizando os dados\n",
        "scaler = StandardScaler()\n",
        "X_train_scaled = scaler.fit_transform(X_train)\n",
        "X_test_scaled = scaler.transform(X_test)"
      ],
      "metadata": {
        "id": "M7ImUPLuMELb"
      },
      "execution_count": null,
      "outputs": []
    },
    {
      "cell_type": "code",
      "source": [
        "meu_knn(X_train_scaled, X_test_scaled, y_train, y_test, 0)"
      ],
      "metadata": {
        "colab": {
          "base_uri": "https://localhost:8080/"
        },
        "id": "U5_jj3_mMFjj",
        "outputId": "05c19488-905f-48a9-a7bc-2872761b63cd"
      },
      "execution_count": null,
      "outputs": [
        {
          "output_type": "stream",
          "name": "stdout",
          "text": [
            "k:234\tACC: 0.2470\n"
          ]
        }
      ]
    },
    {
      "cell_type": "code",
      "source": [
        "#Normalizando os dados\n",
        "norm = MinMaxScaler()\n",
        "X_train_norm = norm.fit_transform(X_train)\n",
        "X_test_norm = norm.transform(X_test)"
      ],
      "metadata": {
        "id": "dzWrn4rcMHlL"
      },
      "execution_count": null,
      "outputs": []
    },
    {
      "cell_type": "code",
      "source": [
        "meu_knn(X_train_norm, X_test_norm, y_train, y_test, 0)"
      ],
      "metadata": {
        "colab": {
          "base_uri": "https://localhost:8080/"
        },
        "id": "OqN7HiKKMKQb",
        "outputId": "64262201-4a15-4087-b74a-f43a2de75f29"
      },
      "execution_count": null,
      "outputs": [
        {
          "output_type": "stream",
          "name": "stdout",
          "text": [
            "k:234\tACC: 0.2479\n"
          ]
        }
      ]
    },
    {
      "cell_type": "markdown",
      "source": [
        "Árvores de decisão"
      ],
      "metadata": {
        "id": "DeVye8GcNgrU"
      }
    },
    {
      "cell_type": "code",
      "source": [
        "#Separando colunas do Dataframe\n",
        "df = dados[ ['genero', 'venceu_premiacoes?','tempo_de_servico', 'idade', 'pontuacao_media_treinamentos','foi_promovido','KPIs >80%'] ]\n"
      ],
      "metadata": {
        "id": "r5uQb2uMWMGn"
      },
      "execution_count": null,
      "outputs": []
    },
    {
      "cell_type": "code",
      "source": [
        "df.sample(10)"
      ],
      "metadata": {
        "colab": {
          "base_uri": "https://localhost:8080/",
          "height": 363
        },
        "id": "P1Mv5lnqWN8s",
        "outputId": "940a42cb-1736-4637-e181-56c85d8dbad6"
      },
      "execution_count": null,
      "outputs": [
        {
          "output_type": "execute_result",
          "data": {
            "text/plain": [
              "       genero  venceu_premiacoes?  tempo_de_servico  idade  \\\n",
              "25714       0                   0                 1     28   \n",
              "27102       0                   0                 3     34   \n",
              "11581       0                   0                 1     31   \n",
              "22618       0                   0                 2     26   \n",
              "19964       0                   0                10     37   \n",
              "37938       0                   0                 2     28   \n",
              "33611       0                   1                 9     35   \n",
              "855         1                   0                 4     36   \n",
              "5893        1                   0                 8     34   \n",
              "51566       0                   0                 2     27   \n",
              "\n",
              "       pontuacao_media_treinamentos  foi_promovido  KPIs >80%  \n",
              "25714                            49              0          0  \n",
              "27102                            68              0          1  \n",
              "11581                            87              0          0  \n",
              "22618                            50              0          0  \n",
              "19964                            87              0          0  \n",
              "37938                            62              0          1  \n",
              "33611                            94              1          1  \n",
              "855                              81              1          0  \n",
              "5893                             58              1          1  \n",
              "51566                            85              0          1  "
            ],
            "text/html": [
              "\n",
              "  <div id=\"df-210125e9-00f2-46a5-a4c5-faab32a2f047\">\n",
              "    <div class=\"colab-df-container\">\n",
              "      <div>\n",
              "<style scoped>\n",
              "    .dataframe tbody tr th:only-of-type {\n",
              "        vertical-align: middle;\n",
              "    }\n",
              "\n",
              "    .dataframe tbody tr th {\n",
              "        vertical-align: top;\n",
              "    }\n",
              "\n",
              "    .dataframe thead th {\n",
              "        text-align: right;\n",
              "    }\n",
              "</style>\n",
              "<table border=\"1\" class=\"dataframe\">\n",
              "  <thead>\n",
              "    <tr style=\"text-align: right;\">\n",
              "      <th></th>\n",
              "      <th>genero</th>\n",
              "      <th>venceu_premiacoes?</th>\n",
              "      <th>tempo_de_servico</th>\n",
              "      <th>idade</th>\n",
              "      <th>pontuacao_media_treinamentos</th>\n",
              "      <th>foi_promovido</th>\n",
              "      <th>KPIs &gt;80%</th>\n",
              "    </tr>\n",
              "  </thead>\n",
              "  <tbody>\n",
              "    <tr>\n",
              "      <th>25714</th>\n",
              "      <td>0</td>\n",
              "      <td>0</td>\n",
              "      <td>1</td>\n",
              "      <td>28</td>\n",
              "      <td>49</td>\n",
              "      <td>0</td>\n",
              "      <td>0</td>\n",
              "    </tr>\n",
              "    <tr>\n",
              "      <th>27102</th>\n",
              "      <td>0</td>\n",
              "      <td>0</td>\n",
              "      <td>3</td>\n",
              "      <td>34</td>\n",
              "      <td>68</td>\n",
              "      <td>0</td>\n",
              "      <td>1</td>\n",
              "    </tr>\n",
              "    <tr>\n",
              "      <th>11581</th>\n",
              "      <td>0</td>\n",
              "      <td>0</td>\n",
              "      <td>1</td>\n",
              "      <td>31</td>\n",
              "      <td>87</td>\n",
              "      <td>0</td>\n",
              "      <td>0</td>\n",
              "    </tr>\n",
              "    <tr>\n",
              "      <th>22618</th>\n",
              "      <td>0</td>\n",
              "      <td>0</td>\n",
              "      <td>2</td>\n",
              "      <td>26</td>\n",
              "      <td>50</td>\n",
              "      <td>0</td>\n",
              "      <td>0</td>\n",
              "    </tr>\n",
              "    <tr>\n",
              "      <th>19964</th>\n",
              "      <td>0</td>\n",
              "      <td>0</td>\n",
              "      <td>10</td>\n",
              "      <td>37</td>\n",
              "      <td>87</td>\n",
              "      <td>0</td>\n",
              "      <td>0</td>\n",
              "    </tr>\n",
              "    <tr>\n",
              "      <th>37938</th>\n",
              "      <td>0</td>\n",
              "      <td>0</td>\n",
              "      <td>2</td>\n",
              "      <td>28</td>\n",
              "      <td>62</td>\n",
              "      <td>0</td>\n",
              "      <td>1</td>\n",
              "    </tr>\n",
              "    <tr>\n",
              "      <th>33611</th>\n",
              "      <td>0</td>\n",
              "      <td>1</td>\n",
              "      <td>9</td>\n",
              "      <td>35</td>\n",
              "      <td>94</td>\n",
              "      <td>1</td>\n",
              "      <td>1</td>\n",
              "    </tr>\n",
              "    <tr>\n",
              "      <th>855</th>\n",
              "      <td>1</td>\n",
              "      <td>0</td>\n",
              "      <td>4</td>\n",
              "      <td>36</td>\n",
              "      <td>81</td>\n",
              "      <td>1</td>\n",
              "      <td>0</td>\n",
              "    </tr>\n",
              "    <tr>\n",
              "      <th>5893</th>\n",
              "      <td>1</td>\n",
              "      <td>0</td>\n",
              "      <td>8</td>\n",
              "      <td>34</td>\n",
              "      <td>58</td>\n",
              "      <td>1</td>\n",
              "      <td>1</td>\n",
              "    </tr>\n",
              "    <tr>\n",
              "      <th>51566</th>\n",
              "      <td>0</td>\n",
              "      <td>0</td>\n",
              "      <td>2</td>\n",
              "      <td>27</td>\n",
              "      <td>85</td>\n",
              "      <td>0</td>\n",
              "      <td>1</td>\n",
              "    </tr>\n",
              "  </tbody>\n",
              "</table>\n",
              "</div>\n",
              "      <button class=\"colab-df-convert\" onclick=\"convertToInteractive('df-210125e9-00f2-46a5-a4c5-faab32a2f047')\"\n",
              "              title=\"Convert this dataframe to an interactive table.\"\n",
              "              style=\"display:none;\">\n",
              "        \n",
              "  <svg xmlns=\"http://www.w3.org/2000/svg\" height=\"24px\"viewBox=\"0 0 24 24\"\n",
              "       width=\"24px\">\n",
              "    <path d=\"M0 0h24v24H0V0z\" fill=\"none\"/>\n",
              "    <path d=\"M18.56 5.44l.94 2.06.94-2.06 2.06-.94-2.06-.94-.94-2.06-.94 2.06-2.06.94zm-11 1L8.5 8.5l.94-2.06 2.06-.94-2.06-.94L8.5 2.5l-.94 2.06-2.06.94zm10 10l.94 2.06.94-2.06 2.06-.94-2.06-.94-.94-2.06-.94 2.06-2.06.94z\"/><path d=\"M17.41 7.96l-1.37-1.37c-.4-.4-.92-.59-1.43-.59-.52 0-1.04.2-1.43.59L10.3 9.45l-7.72 7.72c-.78.78-.78 2.05 0 2.83L4 21.41c.39.39.9.59 1.41.59.51 0 1.02-.2 1.41-.59l7.78-7.78 2.81-2.81c.8-.78.8-2.07 0-2.86zM5.41 20L4 18.59l7.72-7.72 1.47 1.35L5.41 20z\"/>\n",
              "  </svg>\n",
              "      </button>\n",
              "      \n",
              "  <style>\n",
              "    .colab-df-container {\n",
              "      display:flex;\n",
              "      flex-wrap:wrap;\n",
              "      gap: 12px;\n",
              "    }\n",
              "\n",
              "    .colab-df-convert {\n",
              "      background-color: #E8F0FE;\n",
              "      border: none;\n",
              "      border-radius: 50%;\n",
              "      cursor: pointer;\n",
              "      display: none;\n",
              "      fill: #1967D2;\n",
              "      height: 32px;\n",
              "      padding: 0 0 0 0;\n",
              "      width: 32px;\n",
              "    }\n",
              "\n",
              "    .colab-df-convert:hover {\n",
              "      background-color: #E2EBFA;\n",
              "      box-shadow: 0px 1px 2px rgba(60, 64, 67, 0.3), 0px 1px 3px 1px rgba(60, 64, 67, 0.15);\n",
              "      fill: #174EA6;\n",
              "    }\n",
              "\n",
              "    [theme=dark] .colab-df-convert {\n",
              "      background-color: #3B4455;\n",
              "      fill: #D2E3FC;\n",
              "    }\n",
              "\n",
              "    [theme=dark] .colab-df-convert:hover {\n",
              "      background-color: #434B5C;\n",
              "      box-shadow: 0px 1px 3px 1px rgba(0, 0, 0, 0.15);\n",
              "      filter: drop-shadow(0px 1px 2px rgba(0, 0, 0, 0.3));\n",
              "      fill: #FFFFFF;\n",
              "    }\n",
              "  </style>\n",
              "\n",
              "      <script>\n",
              "        const buttonEl =\n",
              "          document.querySelector('#df-210125e9-00f2-46a5-a4c5-faab32a2f047 button.colab-df-convert');\n",
              "        buttonEl.style.display =\n",
              "          google.colab.kernel.accessAllowed ? 'block' : 'none';\n",
              "\n",
              "        async function convertToInteractive(key) {\n",
              "          const element = document.querySelector('#df-210125e9-00f2-46a5-a4c5-faab32a2f047');\n",
              "          const dataTable =\n",
              "            await google.colab.kernel.invokeFunction('convertToInteractive',\n",
              "                                                     [key], {});\n",
              "          if (!dataTable) return;\n",
              "\n",
              "          const docLinkHtml = 'Like what you see? Visit the ' +\n",
              "            '<a target=\"_blank\" href=https://colab.research.google.com/notebooks/data_table.ipynb>data table notebook</a>'\n",
              "            + ' to learn more about interactive tables.';\n",
              "          element.innerHTML = '';\n",
              "          dataTable['output_type'] = 'display_data';\n",
              "          await google.colab.output.renderOutput(dataTable, element);\n",
              "          const docLink = document.createElement('div');\n",
              "          docLink.innerHTML = docLinkHtml;\n",
              "          element.appendChild(docLink);\n",
              "        }\n",
              "      </script>\n",
              "    </div>\n",
              "  </div>\n",
              "  "
            ]
          },
          "metadata": {},
          "execution_count": 67
        }
      ]
    },
    {
      "cell_type": "code",
      "source": [
        "#Dados e label\n",
        "\n",
        "X = df.drop(columns=['foi_promovido'])\n",
        "y = df['foi_promovido']\n",
        "\n",
        "#Treino e teste\n",
        "X_train, X_test, y_train, y_test = train_test_split(X,\n",
        "                                                    y,\n",
        "                                                    test_size=0.3,\n",
        "                                                    random_state=42)"
      ],
      "metadata": {
        "id": "GNBld3UqNmbD"
      },
      "execution_count": null,
      "outputs": []
    },
    {
      "cell_type": "code",
      "source": [
        "#Prints dos treinos e testes\n",
        "print(len(X))\n",
        "print(len(X_train))\n",
        "print(len(X_test))\n",
        "print(len(y_train))\n",
        "print(len(y_test))"
      ],
      "metadata": {
        "colab": {
          "base_uri": "https://localhost:8080/"
        },
        "id": "ZZXJDoBxNwCs",
        "outputId": "fac2cb9b-c686-4b5e-8365-1278e760a52a"
      },
      "execution_count": null,
      "outputs": [
        {
          "output_type": "stream",
          "name": "stdout",
          "text": [
            "54808\n",
            "38365\n",
            "16443\n",
            "38365\n",
            "16443\n"
          ]
        }
      ]
    },
    {
      "cell_type": "code",
      "source": [
        "#Criando a árvore de decisão\n",
        "modelo = DecisionTreeClassifier( max_depth=3 )\n",
        "modelo.fit(X_train, y_train)\n",
        "y_pred = modelo.predict(X_test)\n",
        "\n",
        "accuracy_score(y_test, y_pred)"
      ],
      "metadata": {
        "colab": {
          "base_uri": "https://localhost:8080/"
        },
        "id": "fHb63TNhNwVE",
        "outputId": "9ed13d53-662c-43ff-dc60-a22e379c1f63"
      },
      "execution_count": null,
      "outputs": [
        {
          "output_type": "execute_result",
          "data": {
            "text/plain": [
              "0.9272638812868698"
            ]
          },
          "metadata": {},
          "execution_count": 70
        }
      ]
    },
    {
      "cell_type": "code",
      "source": [
        "#Criando a matriz de confusão\n",
        "m = confusion_matrix(y_true=y_test,\n",
        "                 y_pred=y_pred,\n",
        "                 labels=[0, 1])\n",
        "\n",
        "sns.heatmap(m, annot=True)"
      ],
      "metadata": {
        "colab": {
          "base_uri": "https://localhost:8080/",
          "height": 282
        },
        "id": "3FP26fAiWaF4",
        "outputId": "dfcf9349-60a8-4b37-c36e-33887be70cbf"
      },
      "execution_count": null,
      "outputs": [
        {
          "output_type": "execute_result",
          "data": {
            "text/plain": [
              "<matplotlib.axes._subplots.AxesSubplot at 0x7f84440313d0>"
            ]
          },
          "metadata": {},
          "execution_count": 71
        },
        {
          "output_type": "display_data",
          "data": {
            "text/plain": [
              "<Figure size 432x288 with 2 Axes>"
            ],
            "image/png": "[encoded data removed]"
          },
          "metadata": {
            "needs_background": "light"
          }
        }
      ]
    },
    {
      "cell_type": "code",
      "source": [
        "#Utilizando métricas de precisão, revocação, f1-score e acurácia\n",
        "print(classification_report(y_test, y_pred)) \n"
      ],
      "metadata": {
        "colab": {
          "base_uri": "https://localhost:8080/"
        },
        "id": "-tFTITW5ovX1",
        "outputId": "d7bf54df-3f01-44c4-bbf5-4147b3c89057"
      },
      "execution_count": null,
      "outputs": [
        {
          "output_type": "stream",
          "name": "stdout",
          "text": [
            "              precision    recall  f1-score   support\n",
            "\n",
            "           0       0.93      1.00      0.96     15110\n",
            "           1       0.91      0.11      0.20      1333\n",
            "\n",
            "    accuracy                           0.93     16443\n",
            "   macro avg       0.92      0.56      0.58     16443\n",
            "weighted avg       0.93      0.93      0.90     16443\n",
            "\n"
          ]
        }
      ]
    },
    {
      "cell_type": "code",
      "source": [
        "# Plotagem\n",
        "plt.figure(figsize=(30, 30))\n",
        "plot_tree(modelo, fontsize=10, feature_names=X_train.columns)\n",
        "plt.show()"
      ],
      "metadata": {
        "colab": {
          "base_uri": "https://localhost:8080/",
          "height": 1000
        },
        "id": "uUKPq4PYWdAt",
        "outputId": "95dca9dc-053c-49fd-93e3-3aa49ce6323b"
      },
      "execution_count": null,
      "outputs": [
        {
          "output_type": "display_data",
          "data": {
            "text/plain": [
              "<Figure size 2160x2160 with 1 Axes>"
            ],
            "image/png": "[encoded data removed]"
          },
          "metadata": {
            "needs_background": "light"
          }
        }
      ]
    },
    {
      "cell_type": "code",
      "source": [
        "#Floresta aleatória\n",
        "\n",
        "rf = RandomForestClassifier(n_estimators=50, max_depth=3)\n",
        "rf.fit(X_train, y_train)\n",
        "y_pred = rf.predict(X_test)\n",
        "\n",
        "accuracy_score(y_test, y_pred)"
      ],
      "metadata": {
        "colab": {
          "base_uri": "https://localhost:8080/"
        },
        "id": "Pbkj-mVscBKo",
        "outputId": "6ca7c555-1b73-4a40-ee0b-2c6d08793680"
      },
      "execution_count": null,
      "outputs": [
        {
          "output_type": "execute_result",
          "data": {
            "text/plain": [
              "0.9267773520647083"
            ]
          },
          "metadata": {},
          "execution_count": 74
        }
      ]
    },
    {
      "cell_type": "code",
      "source": [
        "# Comparação de modelos\n",
        "modelos = [ (DecisionTreeClassifier(), '1 árvore'),\n",
        "            (RandomForestClassifier(n_estimators=5, max_depth=5), '5 árvores'), \n",
        "            (RandomForestClassifier(n_estimators=10, max_depth=5), '10 árvores'), \n",
        "            (RandomForestClassifier(n_estimators=25, max_depth=5), '25 árvores'), \n",
        "            (RandomForestClassifier(n_estimators=50, max_depth=5), '50 árvores'), \n",
        "            (RandomForestClassifier(n_estimators=100, max_depth=5), '100 árvores')\n",
        "            ]\n",
        "\n",
        "for modelo, nome in modelos:\n",
        "  modelo.fit(X_train, y_train)\n",
        "  preds = modelo.predict(X_test)\n",
        "  acc = accuracy_score(y_test, preds)\n",
        "\n",
        "  print(f\"acc: {acc} | {nome}\")"
      ],
      "metadata": {
        "colab": {
          "base_uri": "https://localhost:8080/"
        },
        "id": "yLpfzw4AcOw4",
        "outputId": "f3b3b011-e3e3-449b-baaf-25457ee40986"
      },
      "execution_count": null,
      "outputs": [
        {
          "output_type": "stream",
          "name": "stdout",
          "text": [
            "acc: 0.8944231587909749 | 1 árvore\n",
            "acc: 0.9273855135924102 | 5 árvores\n",
            "acc: 0.9277504105090312 | 10 árvores\n",
            "acc: 0.9275679620507207 | 25 árvores\n",
            "acc: 0.9276287782034909 | 50 árvores\n",
            "acc: 0.9279936751201119 | 100 árvores\n"
          ]
        }
      ]
    },
    {
      "cell_type": "markdown",
      "source": [
        "SVM"
      ],
      "metadata": {
        "id": "J7Ejbd23gIdN"
      }
    },
    {
      "cell_type": "code",
      "source": [
        "#Separando o Dataframe\n",
        "x = dados.drop(columns=['KPIs >80%'])\n",
        "y = dados['KPIs >80%']"
      ],
      "metadata": {
        "id": "q2n3RUYfBlTO"
      },
      "execution_count": null,
      "outputs": []
    },
    {
      "cell_type": "code",
      "source": [
        "#Treino e Teste\n",
        "X_train, X_test, y_train, y_test = train_test_split(X, y, random_state=100)"
      ],
      "metadata": {
        "id": "Uyh6WQEmKPyY"
      },
      "execution_count": null,
      "outputs": []
    },
    {
      "cell_type": "code",
      "source": [
        "#Padronizando os dados\n",
        "scaler = StandardScaler()\n",
        "X_train_scaled = scaler.fit_transform(X_train)\n",
        "X_test_scaled = scaler.transform(X_test)"
      ],
      "metadata": {
        "id": "Gy6kBbZUKT79"
      },
      "execution_count": null,
      "outputs": []
    },
    {
      "cell_type": "code",
      "source": [
        "#Construção do SVM\n",
        "modelo = svm.SVC( C=0.1, gamma=1, kernel='linear' )\n",
        "modelo.fit(X_train_scaled, y_train)\n",
        "y_pred = modelo.predict(X_test_scaled)"
      ],
      "metadata": {
        "id": "JCMtLuyiKaMw"
      },
      "execution_count": null,
      "outputs": []
    },
    {
      "cell_type": "code",
      "source": [
        "#Avaliação do modelo\n",
        "print('      ACC: ', metrics.accuracy_score(y_test, y_pred))\n",
        "print('Precision: ', metrics.precision_score(y_test, y_pred))\n",
        "print('   Recall: ', metrics.recall_score(y_test, y_pred))"
      ],
      "metadata": {
        "colab": {
          "base_uri": "https://localhost:8080/"
        },
        "id": "d5QOkxtlKhVH",
        "outputId": "36174fec-20eb-4e56-fc07-d59c62033342"
      },
      "execution_count": null,
      "outputs": [
        {
          "output_type": "stream",
          "name": "stdout",
          "text": [
            "      ACC:  1.0\n",
            "Precision:  1.0\n",
            "   Recall:  1.0\n"
          ]
        }
      ]
    },
    {
      "cell_type": "code",
      "source": [
        "#Construção da matriz de confusão\n",
        "\n",
        "metrics.plot_confusion_matrix(modelo,         \n",
        "                              X_test_scaled,  \n",
        "                              y_test,         \n",
        "                              cmap=\"Blues\")   "
      ],
      "metadata": {
        "colab": {
          "base_uri": "https://localhost:8080/",
          "height": 296
        },
        "id": "hsR8_EdxKk7o",
        "outputId": "14c9b4ba-d31d-4a8e-f5e0-0eaf5e1075ac"
      },
      "execution_count": null,
      "outputs": [
        {
          "output_type": "execute_result",
          "data": {
            "text/plain": [
              "<sklearn.metrics._plot.confusion_matrix.ConfusionMatrixDisplay at 0x7f84419ed210>"
            ]
          },
          "metadata": {},
          "execution_count": 114
        },
        {
          "output_type": "display_data",
          "data": {
            "text/plain": [
              "<Figure size 432x288 with 2 Axes>"
            ],
            "image/png": "[encoded data removed]"
          },
          "metadata": {
            "needs_background": "light"
          }
        }
      ]
    },
    {
      "cell_type": "markdown",
      "source": [
        "Algoritmos de Regressão \n",
        "\n",
        "*Regressão Linear*\n",
        "\n",
        "Antes de analisar o gráfico, devemos entender o modelo de avaliação apresentado, para isso utilizamos o Mean Absolute Error (MSE), Mean Squared Error (MSE) e o R². O MSE ele penaliza erros maiores, no caso, a diferença entre o valor previsto e o correto. O MAE faz a média do erro absoluto de cada previsão, facilitando a interpretação do modelo real. Por fim o R², onde indica a qualidade do modelo, o qual, quanto maior o número, melhor é o modelo\n",
        "*Resultados apresentados no código\n",
        "\n",
        "A regressão linear é um modelo de estatística, o qual, possui o objetivo de indicar o comportamento de uma varíavel, no caso, o \"y\", com a função que contém outras variáveis independentes, no caso, o \"x\". No case analisado, utilizamos a idade dos funcionários em relação ao tempo de serviço dentro da empresa, apresentando uma relação positiva, pois o valor da idade dos funcionarios é maior em relação ao tempo de serviço apresentado.\n",
        "\n",
        "Algoritmos de Regressão\n",
        "\n",
        "*KNN*\n",
        "\n",
        "O K-Nearest neighbors, classifica cada amostra de um grupo de dados e classifica a sua distância em relação aos \"neighbors\". No caso acima, utilizamos a machine learning para identificar os vizinhos mais próximos dentro do .csv e a sua acurácia\n",
        "\n",
        "*Árvores de decisão*\n",
        "\n",
        "As árvores de decisão é um modelo, o qual, são treinadas a partir de um grupo de dados previamente classificados. Nós utilizados apenas uma parte do DataFrame original, escolhendo algumas colunas específicas, no caso: gênero, venceu premiações, tempo de serviço, idade, pontuação média, foi promovido e o KPIs > 80%. Sabendo disso, a relação entre eles, podem serem estabelecidas\n",
        "\n",
        "*Florestas Aleatórias*\n",
        "\n",
        "As florestas aleatórias é um algoritmo preciso, simples e flexível. Uma floresta aleatória é composta por várias árvores de decisão aleatoriamente e no Sprint entregue, comparamos os modelos entre as Florestas, alterando o valor padrão dos parâmetros que controlam o tamanho das árvores (Alteramos os valores para: 5, 10, 15, 25, 50 e 100 árvores. \n",
        "\n",
        "*SVM*\n",
        "\n",
        "o Support Vector Machine é um algoritmo utilizado para classificar dois grupos de dados diferentes. Ele busca criar uma linha, o qual, separa as os grupos distintos, tendo como base, os dois pontos mais próximos do grupo. Após a análisa da machine learning, vimos que os dados estão extremamente precisos segundo as métricas de precisão, recall e acurácia.\n",
        "\n"
      ],
      "metadata": {
        "id": "XuflBSCxpKgk"
      }
    }
  ]
}