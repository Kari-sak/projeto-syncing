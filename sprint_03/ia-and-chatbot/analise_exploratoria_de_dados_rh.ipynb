{
 "cells": [
  {
   "cell_type": "markdown",
   "id": "aab053c0",
   "metadata": {
    "id": "aab053c0"
   },
   "source": [
    "# Soul Coderz"
   ]
  },
  {
   "cell_type": "markdown",
   "id": "6fbe5399",
   "metadata": {
    "id": "6fbe5399"
   },
   "source": [
    "\n",
    "### Integrantes:\n",
    "\n",
    "94745 - Enzo Trevisan dos Santos\n",
    "\n",
    "94488 - Karen Mastrogiacomo Antiqueira\n",
    "\n",
    "95121 - Karina Megumi Sakamoto\n",
    "\n",
    "94426 - Thiago Martins Prado\n",
    "\n",
    "93386 - Vinicius Renan Benjamim Aoyagui\n",
    "\n"
   ]
  },
  {
   "cell_type": "markdown",
   "id": "4f12c715",
   "metadata": {},
   "source": [
    "#### Importanto bibliotecas e leitura do Dataframe"
   ]
  },
  {
   "cell_type": "code",
   "execution_count": 1,
   "id": "d557881a",
   "metadata": {
    "id": "d557881a"
   },
   "outputs": [],
   "source": [
    "import pandas as pd #Importando a biblioteca pandas"
   ]
  },
  {
   "cell_type": "code",
   "execution_count": 2,
   "id": "8d9c2892",
   "metadata": {
    "id": "8d9c2892"
   },
   "outputs": [],
   "source": [
    "import matplotlib.pyplot as plt #Importando a biblioteca matplot"
   ]
  },
  {
   "cell_type": "code",
   "execution_count": 3,
   "id": "8245576f",
   "metadata": {
    "id": "8245576f",
    "scrolled": true
   },
   "outputs": [],
   "source": [
    "dados = pd.read_csv(\"dados_rh.csv\") #Lendo o dataframe"
   ]
  },
  {
   "cell_type": "markdown",
   "id": "d4c2583b",
   "metadata": {},
   "source": [
    "#### Conhecendo o Dataframe"
   ]
  },
  {
   "cell_type": "code",
   "execution_count": 4,
   "id": "5413be1e",
   "metadata": {},
   "outputs": [
    {
     "data": {
      "text/plain": [
       "Index(['id_empregado', 'departamento', 'regiao', 'educacao', 'genero',\n",
       "       'canal_de_recrutamento', 'n_de_treinamentos', 'idade',\n",
       "       'pontuacao_ano_anterior', 'tempo_de_servico', 'KPIs >80%',\n",
       "       'venceu_premiacoes?', 'pontuacao_media_treinamentos', 'foi_promovido'],\n",
       "      dtype='object')"
      ]
     },
     "execution_count": 4,
     "metadata": {},
     "output_type": "execute_result"
    }
   ],
   "source": [
    "dados.columns #Verificando quais são as colunas"
   ]
  },
  {
   "cell_type": "code",
   "execution_count": 5,
   "id": "44b8409d",
   "metadata": {
    "id": "44b8409d",
    "outputId": "08c30dda-794f-4fbd-bfe3-98a8861edbd5",
    "scrolled": true
   },
   "outputs": [
    {
     "data": {
      "text/html": [
       "<div>\n",
       "<style scoped>\n",
       "    .dataframe tbody tr th:only-of-type {\n",
       "        vertical-align: middle;\n",
       "    }\n",
       "\n",
       "    .dataframe tbody tr th {\n",
       "        vertical-align: top;\n",
       "    }\n",
       "\n",
       "    .dataframe thead th {\n",
       "        text-align: right;\n",
       "    }\n",
       "</style>\n",
       "<table border=\"1\" class=\"dataframe\">\n",
       "  <thead>\n",
       "    <tr style=\"text-align: right;\">\n",
       "      <th></th>\n",
       "      <th>id_empregado</th>\n",
       "      <th>departamento</th>\n",
       "      <th>regiao</th>\n",
       "      <th>educacao</th>\n",
       "      <th>genero</th>\n",
       "      <th>canal_de_recrutamento</th>\n",
       "      <th>n_de_treinamentos</th>\n",
       "      <th>idade</th>\n",
       "      <th>pontuacao_ano_anterior</th>\n",
       "      <th>tempo_de_servico</th>\n",
       "      <th>KPIs &gt;80%</th>\n",
       "      <th>venceu_premiacoes?</th>\n",
       "      <th>pontuacao_media_treinamentos</th>\n",
       "      <th>foi_promovido</th>\n",
       "    </tr>\n",
       "  </thead>\n",
       "  <tbody>\n",
       "    <tr>\n",
       "      <th>0</th>\n",
       "      <td>65438</td>\n",
       "      <td>Vendas &amp; Marketing</td>\n",
       "      <td>regiao_7</td>\n",
       "      <td>Mestrado &amp; acima</td>\n",
       "      <td>F</td>\n",
       "      <td>processo seletivo</td>\n",
       "      <td>1</td>\n",
       "      <td>35</td>\n",
       "      <td>5.0</td>\n",
       "      <td>8</td>\n",
       "      <td>1</td>\n",
       "      <td>0</td>\n",
       "      <td>49</td>\n",
       "      <td>0</td>\n",
       "    </tr>\n",
       "    <tr>\n",
       "      <th>1</th>\n",
       "      <td>65141</td>\n",
       "      <td>Operacoes</td>\n",
       "      <td>regiao_22</td>\n",
       "      <td>Bacharelado</td>\n",
       "      <td>M</td>\n",
       "      <td>outros</td>\n",
       "      <td>1</td>\n",
       "      <td>30</td>\n",
       "      <td>5.0</td>\n",
       "      <td>4</td>\n",
       "      <td>0</td>\n",
       "      <td>0</td>\n",
       "      <td>60</td>\n",
       "      <td>0</td>\n",
       "    </tr>\n",
       "    <tr>\n",
       "      <th>2</th>\n",
       "      <td>7513</td>\n",
       "      <td>Vendas &amp; Marketing</td>\n",
       "      <td>regiao_19</td>\n",
       "      <td>Bacharelado</td>\n",
       "      <td>M</td>\n",
       "      <td>processo seletivo</td>\n",
       "      <td>1</td>\n",
       "      <td>34</td>\n",
       "      <td>3.0</td>\n",
       "      <td>7</td>\n",
       "      <td>0</td>\n",
       "      <td>0</td>\n",
       "      <td>50</td>\n",
       "      <td>0</td>\n",
       "    </tr>\n",
       "    <tr>\n",
       "      <th>3</th>\n",
       "      <td>2542</td>\n",
       "      <td>Vendas &amp; Marketing</td>\n",
       "      <td>regiao_23</td>\n",
       "      <td>Bacharelado</td>\n",
       "      <td>M</td>\n",
       "      <td>outros</td>\n",
       "      <td>2</td>\n",
       "      <td>39</td>\n",
       "      <td>1.0</td>\n",
       "      <td>10</td>\n",
       "      <td>0</td>\n",
       "      <td>0</td>\n",
       "      <td>50</td>\n",
       "      <td>0</td>\n",
       "    </tr>\n",
       "    <tr>\n",
       "      <th>4</th>\n",
       "      <td>48945</td>\n",
       "      <td>Tecnologia</td>\n",
       "      <td>regiao_26</td>\n",
       "      <td>Bacharelado</td>\n",
       "      <td>M</td>\n",
       "      <td>outros</td>\n",
       "      <td>1</td>\n",
       "      <td>45</td>\n",
       "      <td>3.0</td>\n",
       "      <td>2</td>\n",
       "      <td>0</td>\n",
       "      <td>0</td>\n",
       "      <td>73</td>\n",
       "      <td>0</td>\n",
       "    </tr>\n",
       "  </tbody>\n",
       "</table>\n",
       "</div>"
      ],
      "text/plain": [
       "   id_empregado        departamento     regiao          educacao genero  \\\n",
       "0         65438  Vendas & Marketing   regiao_7  Mestrado & acima      F   \n",
       "1         65141           Operacoes  regiao_22       Bacharelado      M   \n",
       "2          7513  Vendas & Marketing  regiao_19       Bacharelado      M   \n",
       "3          2542  Vendas & Marketing  regiao_23       Bacharelado      M   \n",
       "4         48945          Tecnologia  regiao_26       Bacharelado      M   \n",
       "\n",
       "  canal_de_recrutamento  n_de_treinamentos  idade  pontuacao_ano_anterior  \\\n",
       "0     processo seletivo                  1     35                     5.0   \n",
       "1                outros                  1     30                     5.0   \n",
       "2     processo seletivo                  1     34                     3.0   \n",
       "3                outros                  2     39                     1.0   \n",
       "4                outros                  1     45                     3.0   \n",
       "\n",
       "   tempo_de_servico  KPIs >80%  venceu_premiacoes?  \\\n",
       "0                 8          1                   0   \n",
       "1                 4          0                   0   \n",
       "2                 7          0                   0   \n",
       "3                10          0                   0   \n",
       "4                 2          0                   0   \n",
       "\n",
       "   pontuacao_media_treinamentos  foi_promovido  \n",
       "0                            49              0  \n",
       "1                            60              0  \n",
       "2                            50              0  \n",
       "3                            50              0  \n",
       "4                            73              0  "
      ]
     },
     "execution_count": 5,
     "metadata": {},
     "output_type": "execute_result"
    }
   ],
   "source": [
    "dados.head() #Mostrando as 5 primeiras linhas"
   ]
  },
  {
   "cell_type": "code",
   "execution_count": 6,
   "id": "08b7685a",
   "metadata": {
    "colab": {
     "base_uri": "https://localhost:8080/",
     "height": 322
    },
    "id": "08b7685a",
    "outputId": "c2696ba4-abae-47a7-ba42-0ec70b211053"
   },
   "outputs": [
    {
     "data": {
      "text/html": [
       "<div>\n",
       "<style scoped>\n",
       "    .dataframe tbody tr th:only-of-type {\n",
       "        vertical-align: middle;\n",
       "    }\n",
       "\n",
       "    .dataframe tbody tr th {\n",
       "        vertical-align: top;\n",
       "    }\n",
       "\n",
       "    .dataframe thead th {\n",
       "        text-align: right;\n",
       "    }\n",
       "</style>\n",
       "<table border=\"1\" class=\"dataframe\">\n",
       "  <thead>\n",
       "    <tr style=\"text-align: right;\">\n",
       "      <th></th>\n",
       "      <th>id_empregado</th>\n",
       "      <th>departamento</th>\n",
       "      <th>regiao</th>\n",
       "      <th>educacao</th>\n",
       "      <th>genero</th>\n",
       "      <th>canal_de_recrutamento</th>\n",
       "      <th>n_de_treinamentos</th>\n",
       "      <th>idade</th>\n",
       "      <th>pontuacao_ano_anterior</th>\n",
       "      <th>tempo_de_servico</th>\n",
       "      <th>KPIs &gt;80%</th>\n",
       "      <th>venceu_premiacoes?</th>\n",
       "      <th>pontuacao_media_treinamentos</th>\n",
       "      <th>foi_promovido</th>\n",
       "    </tr>\n",
       "  </thead>\n",
       "  <tbody>\n",
       "    <tr>\n",
       "      <th>54803</th>\n",
       "      <td>3030</td>\n",
       "      <td>Tecnologia</td>\n",
       "      <td>regiao_14</td>\n",
       "      <td>Bacharelado</td>\n",
       "      <td>M</td>\n",
       "      <td>processo seletivo</td>\n",
       "      <td>1</td>\n",
       "      <td>48</td>\n",
       "      <td>3.0</td>\n",
       "      <td>17</td>\n",
       "      <td>0</td>\n",
       "      <td>0</td>\n",
       "      <td>78</td>\n",
       "      <td>0</td>\n",
       "    </tr>\n",
       "    <tr>\n",
       "      <th>54804</th>\n",
       "      <td>74592</td>\n",
       "      <td>Operacoes</td>\n",
       "      <td>regiao_27</td>\n",
       "      <td>Mestrado &amp; acima</td>\n",
       "      <td>F</td>\n",
       "      <td>outros</td>\n",
       "      <td>1</td>\n",
       "      <td>37</td>\n",
       "      <td>2.0</td>\n",
       "      <td>6</td>\n",
       "      <td>0</td>\n",
       "      <td>0</td>\n",
       "      <td>56</td>\n",
       "      <td>0</td>\n",
       "    </tr>\n",
       "    <tr>\n",
       "      <th>54805</th>\n",
       "      <td>13918</td>\n",
       "      <td>Analise</td>\n",
       "      <td>regiao_1</td>\n",
       "      <td>Bacharelado</td>\n",
       "      <td>M</td>\n",
       "      <td>outros</td>\n",
       "      <td>1</td>\n",
       "      <td>27</td>\n",
       "      <td>5.0</td>\n",
       "      <td>3</td>\n",
       "      <td>1</td>\n",
       "      <td>0</td>\n",
       "      <td>79</td>\n",
       "      <td>0</td>\n",
       "    </tr>\n",
       "    <tr>\n",
       "      <th>54806</th>\n",
       "      <td>13614</td>\n",
       "      <td>Vendas &amp; Marketing</td>\n",
       "      <td>regiao_9</td>\n",
       "      <td>NaN</td>\n",
       "      <td>M</td>\n",
       "      <td>processo seletivo</td>\n",
       "      <td>1</td>\n",
       "      <td>29</td>\n",
       "      <td>1.0</td>\n",
       "      <td>2</td>\n",
       "      <td>0</td>\n",
       "      <td>0</td>\n",
       "      <td>45</td>\n",
       "      <td>0</td>\n",
       "    </tr>\n",
       "    <tr>\n",
       "      <th>54807</th>\n",
       "      <td>51526</td>\n",
       "      <td>RH</td>\n",
       "      <td>regiao_22</td>\n",
       "      <td>Bacharelado</td>\n",
       "      <td>M</td>\n",
       "      <td>outros</td>\n",
       "      <td>1</td>\n",
       "      <td>27</td>\n",
       "      <td>1.0</td>\n",
       "      <td>5</td>\n",
       "      <td>0</td>\n",
       "      <td>0</td>\n",
       "      <td>49</td>\n",
       "      <td>0</td>\n",
       "    </tr>\n",
       "  </tbody>\n",
       "</table>\n",
       "</div>"
      ],
      "text/plain": [
       "       id_empregado        departamento     regiao          educacao genero  \\\n",
       "54803          3030          Tecnologia  regiao_14       Bacharelado      M   \n",
       "54804         74592           Operacoes  regiao_27  Mestrado & acima      F   \n",
       "54805         13918             Analise   regiao_1       Bacharelado      M   \n",
       "54806         13614  Vendas & Marketing   regiao_9               NaN      M   \n",
       "54807         51526                  RH  regiao_22       Bacharelado      M   \n",
       "\n",
       "      canal_de_recrutamento  n_de_treinamentos  idade  pontuacao_ano_anterior  \\\n",
       "54803     processo seletivo                  1     48                     3.0   \n",
       "54804                outros                  1     37                     2.0   \n",
       "54805                outros                  1     27                     5.0   \n",
       "54806     processo seletivo                  1     29                     1.0   \n",
       "54807                outros                  1     27                     1.0   \n",
       "\n",
       "       tempo_de_servico  KPIs >80%  venceu_premiacoes?  \\\n",
       "54803                17          0                   0   \n",
       "54804                 6          0                   0   \n",
       "54805                 3          1                   0   \n",
       "54806                 2          0                   0   \n",
       "54807                 5          0                   0   \n",
       "\n",
       "       pontuacao_media_treinamentos  foi_promovido  \n",
       "54803                            78              0  \n",
       "54804                            56              0  \n",
       "54805                            79              0  \n",
       "54806                            45              0  \n",
       "54807                            49              0  "
      ]
     },
     "execution_count": 6,
     "metadata": {},
     "output_type": "execute_result"
    }
   ],
   "source": [
    "dados.tail() #Mostrando as 5 últimas linhas"
   ]
  },
  {
   "cell_type": "markdown",
   "id": "8b45272e",
   "metadata": {
    "id": "8b45272e"
   },
   "source": [
    "Count = contagem\n",
    "\n",
    "mean = média aritmética\n",
    "\n",
    "std = desvio padrão\n",
    "\n",
    "min = valor mínimo\n",
    "\n",
    "25% = primeiro quartil\n",
    "\n",
    "50% = media / segundo quartil\n",
    "\n",
    "75% = terceiro quartil\n",
    "\n",
    "max = valor máximo"
   ]
  },
  {
   "cell_type": "code",
   "execution_count": 7,
   "id": "ebba6aa3",
   "metadata": {
    "colab": {
     "base_uri": "https://localhost:8080/"
    },
    "id": "ebba6aa3",
    "outputId": "4f2286bb-17c3-4f28-be8c-f1b4effb1e79"
   },
   "outputs": [
    {
     "data": {
      "text/plain": [
       "id_empregado                      int64\n",
       "departamento                     object\n",
       "regiao                           object\n",
       "educacao                         object\n",
       "genero                           object\n",
       "canal_de_recrutamento            object\n",
       "n_de_treinamentos                 int64\n",
       "idade                             int64\n",
       "pontuacao_ano_anterior          float64\n",
       "tempo_de_servico                  int64\n",
       "KPIs >80%                         int64\n",
       "venceu_premiacoes?                int64\n",
       "pontuacao_media_treinamentos      int64\n",
       "foi_promovido                     int64\n",
       "dtype: object"
      ]
     },
     "execution_count": 7,
     "metadata": {},
     "output_type": "execute_result"
    }
   ],
   "source": [
    "dados.dtypes #Verificando os tipos de dados das colunas"
   ]
  },
  {
   "cell_type": "code",
   "execution_count": 8,
   "id": "39e02a3b",
   "metadata": {},
   "outputs": [
    {
     "data": {
      "text/plain": [
       "id_empregado                    54808\n",
       "departamento                        9\n",
       "regiao                             34\n",
       "educacao                            3\n",
       "genero                              2\n",
       "canal_de_recrutamento               3\n",
       "n_de_treinamentos                  10\n",
       "idade                              41\n",
       "pontuacao_ano_anterior              5\n",
       "tempo_de_servico                   35\n",
       "KPIs >80%                           2\n",
       "venceu_premiacoes?                  2\n",
       "pontuacao_media_treinamentos       61\n",
       "foi_promovido                       2\n",
       "dtype: int64"
      ]
     },
     "execution_count": 8,
     "metadata": {},
     "output_type": "execute_result"
    }
   ],
   "source": [
    "dados.nunique() #Verificando os valores únicos de colunas"
   ]
  },
  {
   "cell_type": "code",
   "execution_count": 9,
   "id": "61e2c9e9",
   "metadata": {},
   "outputs": [
    {
     "data": {
      "text/plain": [
       "(54808, 14)"
      ]
     },
     "execution_count": 9,
     "metadata": {},
     "output_type": "execute_result"
    }
   ],
   "source": [
    "dados.shape #Mostrando o tamanho do dataframe"
   ]
  },
  {
   "cell_type": "code",
   "execution_count": 10,
   "id": "f6267a97",
   "metadata": {
    "colab": {
     "base_uri": "https://localhost:8080/",
     "height": 364
    },
    "id": "f6267a97",
    "outputId": "eeebeaf3-76ee-453e-b6a7-9903e360da91",
    "scrolled": true
   },
   "outputs": [
    {
     "data": {
      "text/html": [
       "<div>\n",
       "<style scoped>\n",
       "    .dataframe tbody tr th:only-of-type {\n",
       "        vertical-align: middle;\n",
       "    }\n",
       "\n",
       "    .dataframe tbody tr th {\n",
       "        vertical-align: top;\n",
       "    }\n",
       "\n",
       "    .dataframe thead th {\n",
       "        text-align: right;\n",
       "    }\n",
       "</style>\n",
       "<table border=\"1\" class=\"dataframe\">\n",
       "  <thead>\n",
       "    <tr style=\"text-align: right;\">\n",
       "      <th></th>\n",
       "      <th>id_empregado</th>\n",
       "      <th>n_de_treinamentos</th>\n",
       "      <th>idade</th>\n",
       "      <th>pontuacao_ano_anterior</th>\n",
       "      <th>tempo_de_servico</th>\n",
       "      <th>KPIs &gt;80%</th>\n",
       "      <th>venceu_premiacoes?</th>\n",
       "      <th>pontuacao_media_treinamentos</th>\n",
       "      <th>foi_promovido</th>\n",
       "    </tr>\n",
       "  </thead>\n",
       "  <tbody>\n",
       "    <tr>\n",
       "      <th>count</th>\n",
       "      <td>54808.000000</td>\n",
       "      <td>54808.000000</td>\n",
       "      <td>54808.000000</td>\n",
       "      <td>50684.000000</td>\n",
       "      <td>54808.000000</td>\n",
       "      <td>54808.000000</td>\n",
       "      <td>54808.000000</td>\n",
       "      <td>54808.000000</td>\n",
       "      <td>54808.000000</td>\n",
       "    </tr>\n",
       "    <tr>\n",
       "      <th>mean</th>\n",
       "      <td>39195.830627</td>\n",
       "      <td>1.253011</td>\n",
       "      <td>34.803915</td>\n",
       "      <td>3.329256</td>\n",
       "      <td>5.865512</td>\n",
       "      <td>0.351974</td>\n",
       "      <td>0.023172</td>\n",
       "      <td>63.386750</td>\n",
       "      <td>0.085170</td>\n",
       "    </tr>\n",
       "    <tr>\n",
       "      <th>std</th>\n",
       "      <td>22586.581449</td>\n",
       "      <td>0.609264</td>\n",
       "      <td>7.660169</td>\n",
       "      <td>1.259993</td>\n",
       "      <td>4.265094</td>\n",
       "      <td>0.477590</td>\n",
       "      <td>0.150450</td>\n",
       "      <td>13.371559</td>\n",
       "      <td>0.279137</td>\n",
       "    </tr>\n",
       "    <tr>\n",
       "      <th>min</th>\n",
       "      <td>1.000000</td>\n",
       "      <td>1.000000</td>\n",
       "      <td>20.000000</td>\n",
       "      <td>1.000000</td>\n",
       "      <td>1.000000</td>\n",
       "      <td>0.000000</td>\n",
       "      <td>0.000000</td>\n",
       "      <td>39.000000</td>\n",
       "      <td>0.000000</td>\n",
       "    </tr>\n",
       "    <tr>\n",
       "      <th>25%</th>\n",
       "      <td>19669.750000</td>\n",
       "      <td>1.000000</td>\n",
       "      <td>29.000000</td>\n",
       "      <td>3.000000</td>\n",
       "      <td>3.000000</td>\n",
       "      <td>0.000000</td>\n",
       "      <td>0.000000</td>\n",
       "      <td>51.000000</td>\n",
       "      <td>0.000000</td>\n",
       "    </tr>\n",
       "    <tr>\n",
       "      <th>50%</th>\n",
       "      <td>39225.500000</td>\n",
       "      <td>1.000000</td>\n",
       "      <td>33.000000</td>\n",
       "      <td>3.000000</td>\n",
       "      <td>5.000000</td>\n",
       "      <td>0.000000</td>\n",
       "      <td>0.000000</td>\n",
       "      <td>60.000000</td>\n",
       "      <td>0.000000</td>\n",
       "    </tr>\n",
       "    <tr>\n",
       "      <th>75%</th>\n",
       "      <td>58730.500000</td>\n",
       "      <td>1.000000</td>\n",
       "      <td>39.000000</td>\n",
       "      <td>4.000000</td>\n",
       "      <td>7.000000</td>\n",
       "      <td>1.000000</td>\n",
       "      <td>0.000000</td>\n",
       "      <td>76.000000</td>\n",
       "      <td>0.000000</td>\n",
       "    </tr>\n",
       "    <tr>\n",
       "      <th>max</th>\n",
       "      <td>78298.000000</td>\n",
       "      <td>10.000000</td>\n",
       "      <td>60.000000</td>\n",
       "      <td>5.000000</td>\n",
       "      <td>37.000000</td>\n",
       "      <td>1.000000</td>\n",
       "      <td>1.000000</td>\n",
       "      <td>99.000000</td>\n",
       "      <td>1.000000</td>\n",
       "    </tr>\n",
       "  </tbody>\n",
       "</table>\n",
       "</div>"
      ],
      "text/plain": [
       "       id_empregado  n_de_treinamentos         idade  pontuacao_ano_anterior  \\\n",
       "count  54808.000000       54808.000000  54808.000000            50684.000000   \n",
       "mean   39195.830627           1.253011     34.803915                3.329256   \n",
       "std    22586.581449           0.609264      7.660169                1.259993   \n",
       "min        1.000000           1.000000     20.000000                1.000000   \n",
       "25%    19669.750000           1.000000     29.000000                3.000000   \n",
       "50%    39225.500000           1.000000     33.000000                3.000000   \n",
       "75%    58730.500000           1.000000     39.000000                4.000000   \n",
       "max    78298.000000          10.000000     60.000000                5.000000   \n",
       "\n",
       "       tempo_de_servico     KPIs >80%  venceu_premiacoes?  \\\n",
       "count      54808.000000  54808.000000        54808.000000   \n",
       "mean           5.865512      0.351974            0.023172   \n",
       "std            4.265094      0.477590            0.150450   \n",
       "min            1.000000      0.000000            0.000000   \n",
       "25%            3.000000      0.000000            0.000000   \n",
       "50%            5.000000      0.000000            0.000000   \n",
       "75%            7.000000      1.000000            0.000000   \n",
       "max           37.000000      1.000000            1.000000   \n",
       "\n",
       "       pontuacao_media_treinamentos  foi_promovido  \n",
       "count                  54808.000000   54808.000000  \n",
       "mean                      63.386750       0.085170  \n",
       "std                       13.371559       0.279137  \n",
       "min                       39.000000       0.000000  \n",
       "25%                       51.000000       0.000000  \n",
       "50%                       60.000000       0.000000  \n",
       "75%                       76.000000       0.000000  \n",
       "max                       99.000000       1.000000  "
      ]
     },
     "execution_count": 10,
     "metadata": {},
     "output_type": "execute_result"
    }
   ],
   "source": [
    "dados.describe()#Descrição detalhada "
   ]
  },
  {
   "cell_type": "markdown",
   "id": "aa6f4eb4",
   "metadata": {},
   "source": [
    "#### Limpeza de dados"
   ]
  },
  {
   "cell_type": "code",
   "execution_count": 11,
   "id": "0a2ed81c",
   "metadata": {},
   "outputs": [],
   "source": [
    "dados_unicos = dados.drop_duplicates() #Remoção de dados duplicados\n",
    "dados.drop_duplicates(inplace=True) #Remoção dados duplicados na mesma variável"
   ]
  },
  {
   "cell_type": "code",
   "execution_count": 12,
   "id": "f4047e55",
   "metadata": {
    "colab": {
     "base_uri": "https://localhost:8080/"
    },
    "id": "f4047e55",
    "outputId": "13481a82-e3cf-41df-b9e4-d81490da3331"
   },
   "outputs": [
    {
     "data": {
      "text/plain": [
       "id_empregado                       0\n",
       "departamento                       0\n",
       "regiao                             0\n",
       "educacao                        2409\n",
       "genero                             0\n",
       "canal_de_recrutamento              0\n",
       "n_de_treinamentos                  0\n",
       "idade                              0\n",
       "pontuacao_ano_anterior          4124\n",
       "tempo_de_servico                   0\n",
       "KPIs >80%                          0\n",
       "venceu_premiacoes?                 0\n",
       "pontuacao_media_treinamentos       0\n",
       "foi_promovido                      0\n",
       "dtype: int64"
      ]
     },
     "execution_count": 12,
     "metadata": {},
     "output_type": "execute_result"
    }
   ],
   "source": [
    "dados.isnull().sum() #Verificando a existência de valores nulos"
   ]
  },
  {
   "cell_type": "code",
   "execution_count": 13,
   "id": "be4e6ac3",
   "metadata": {},
   "outputs": [],
   "source": [
    "#Inserção dos dados faltantes\n",
    "dados[\"pontuacao_ano_anterior\"].fillna( dados[\"pontuacao_ano_anterior\"].mean() , inplace=True )\n",
    "dados[\"educacao\"].fillna( \"Outros\" , inplace=True )\n"
   ]
  },
  {
   "cell_type": "code",
   "execution_count": 14,
   "id": "1db70684",
   "metadata": {},
   "outputs": [
    {
     "data": {
      "text/plain": [
       "id_empregado                    0\n",
       "departamento                    0\n",
       "regiao                          0\n",
       "educacao                        0\n",
       "genero                          0\n",
       "canal_de_recrutamento           0\n",
       "n_de_treinamentos               0\n",
       "idade                           0\n",
       "pontuacao_ano_anterior          0\n",
       "tempo_de_servico                0\n",
       "KPIs >80%                       0\n",
       "venceu_premiacoes?              0\n",
       "pontuacao_media_treinamentos    0\n",
       "foi_promovido                   0\n",
       "dtype: int64"
      ]
     },
     "execution_count": 14,
     "metadata": {},
     "output_type": "execute_result"
    }
   ],
   "source": [
    "dados.isnull().sum() #Verificando a existência de valores nulos novamente"
   ]
  },
  {
   "cell_type": "code",
   "execution_count": 15,
   "id": "94938a41",
   "metadata": {},
   "outputs": [
    {
     "data": {
      "text/plain": [
       "(54808, 14)"
      ]
     },
     "execution_count": 15,
     "metadata": {},
     "output_type": "execute_result"
    }
   ],
   "source": [
    "dados.shape #Mostrando o tamanho do dataframe após a remoção dos valores nulos"
   ]
  },
  {
   "cell_type": "markdown",
   "id": "d09af2c8",
   "metadata": {},
   "source": [
    "#### Estatísticas"
   ]
  },
  {
   "cell_type": "code",
   "execution_count": 16,
   "id": "d90f2dad",
   "metadata": {},
   "outputs": [
    {
     "data": {
      "text/plain": [
       "Bacharelado               36669\n",
       "Mestrado & acima          14925\n",
       "Outros                     2409\n",
       "Abaixo do ensino medio      805\n",
       "Name: educacao, dtype: int64"
      ]
     },
     "execution_count": 16,
     "metadata": {},
     "output_type": "execute_result"
    }
   ],
   "source": [
    "dados['educacao'].value_counts()"
   ]
  },
  {
   "cell_type": "code",
   "execution_count": 17,
   "id": "7f56c4b8",
   "metadata": {},
   "outputs": [
    {
     "data": {
      "image/png": "[encoded data removed]",
      "text/plain": [
       "<Figure size 432x288 with 1 Axes>"
      ]
     },
     "metadata": {},
     "output_type": "display_data"
    }
   ],
   "source": [
    "bac = dados.loc[dados['educacao'] == 'Bacharelado'].count()[0]\n",
    "mes = dados.loc[dados['educacao'] == 'Mestrado & acima'].count()[0]\n",
    "aba = dados.loc[dados['educacao'] == 'Abaixo do ensino medio'].count()[0]\n",
    "out = dados.loc[dados['educacao'] == 'Outros'].count()[0]\n",
    "labels =['Bacharelado','Mestrado & acima','Abaixo do ensino medio', 'Outros' ]\n",
    "plt.title('Porcentagem do nível de escolaridade dos empregados da empresa')\n",
    "plt.pie([bac, mes, aba,out], labels =labels, autopct='%.2f%%')\n",
    "plt.show()"
   ]
  },
  {
   "cell_type": "code",
   "execution_count": 18,
   "id": "23ce8eaa",
   "metadata": {
    "colab": {
     "base_uri": "https://localhost:8080/"
    },
    "id": "23ce8eaa",
    "outputId": "37e10110-d8cb-45a6-a5a2-92de001e4f3e"
   },
   "outputs": [
    {
     "data": {
      "text/plain": [
       "3.000000    18618\n",
       "5.000000    11741\n",
       "4.000000     9877\n",
       "1.000000     6223\n",
       "2.000000     4225\n",
       "3.329256     4124\n",
       "Name: pontuacao_ano_anterior, dtype: int64"
      ]
     },
     "execution_count": 18,
     "metadata": {},
     "output_type": "execute_result"
    }
   ],
   "source": [
    "dados['pontuacao_ano_anterior'].value_counts()"
   ]
  },
  {
   "cell_type": "code",
   "execution_count": 19,
   "id": "e683d313",
   "metadata": {
    "colab": {
     "base_uri": "https://localhost:8080/",
     "height": 282
    },
    "id": "e683d313",
    "outputId": "d424ce78-84e0-4cb0-cba4-b160a2e38145"
   },
   "outputs": [
    {
     "data": {
      "image/png": "[encoded data removed]",
      "text/plain": [
       "<Figure size 432x288 with 1 Axes>"
      ]
     },
     "metadata": {
      "needs_background": "light"
     },
     "output_type": "display_data"
    }
   ],
   "source": [
    "dados.boxplot(column='pontuacao_ano_anterior')\n",
    "plt.title('Pontuação dos empregados no ano anterior')\n",
    "plt.ylabel('Pontuação do ano anterior')\n",
    "plt.show()"
   ]
  },
  {
   "cell_type": "code",
   "execution_count": 20,
   "id": "881cc280",
   "metadata": {
    "colab": {
     "base_uri": "https://localhost:8080/"
    },
    "id": "881cc280",
    "outputId": "61cf7f8d-be90-4356-8380-06221f935e1e"
   },
   "outputs": [
    {
     "data": {
      "text/plain": [
       "Vendas & Marketing            16840\n",
       "Operacoes                     11348\n",
       "Tecnologia                     7138\n",
       "Compras                        7138\n",
       "Analise                        5352\n",
       "Financeiro                     2536\n",
       "RH                             2418\n",
       "Legal                          1039\n",
       "Pesquisa & Desenvolvimento      999\n",
       "Name: departamento, dtype: int64"
      ]
     },
     "execution_count": 20,
     "metadata": {},
     "output_type": "execute_result"
    }
   ],
   "source": [
    "dados['departamento'].value_counts() #Verificando a quantidade de pessoas em cada departamento"
   ]
  },
  {
   "cell_type": "code",
   "execution_count": 21,
   "id": "adec48bd",
   "metadata": {
    "colab": {
     "base_uri": "https://localhost:8080/",
     "height": 448
    },
    "id": "adec48bd",
    "outputId": "91c84e67-7c78-4ae2-b039-9e83cfaf0e1c"
   },
   "outputs": [
    {
     "data": {
      "text/plain": [
       "Text(0.5, 1.0, 'Departamentos com mais trabalhadores')"
      ]
     },
     "execution_count": 21,
     "metadata": {},
     "output_type": "execute_result"
    },
    {
     "data": {
      "image/png": "[encoded data removed]",
      "text/plain": [
       "<Figure size 432x288 with 1 Axes>"
      ]
     },
     "metadata": {
      "needs_background": "light"
     },
     "output_type": "display_data"
    }
   ],
   "source": [
    "dados_dep = dados['departamento'].value_counts()\n",
    "dados_dep.plot(kind='bar')\n",
    "plt.ylabel('Quantidade de empregados')\n",
    "plt.xlabel('Departamentos')\n",
    "plt.title('Departamentos com mais trabalhadores')"
   ]
  },
  {
   "cell_type": "markdown",
   "id": "0737f558",
   "metadata": {},
   "source": [
    "Grande número de trabalhadores no departamento de Vendas & Marketing"
   ]
  },
  {
   "cell_type": "code",
   "execution_count": 22,
   "id": "d6059e10",
   "metadata": {
    "id": "d6059e10",
    "outputId": "efb14c8a-100c-4a2c-8151-e52e4b61006a"
   },
   "outputs": [
    {
     "data": {
      "text/plain": [
       "regiao_2     12343\n",
       "regiao_22     6428\n",
       "regiao_7      4843\n",
       "regiao_15     2808\n",
       "regiao_13     2648\n",
       "regiao_26     2260\n",
       "regiao_31     1935\n",
       "regiao_4      1703\n",
       "regiao_27     1659\n",
       "regiao_16     1465\n",
       "regiao_28     1318\n",
       "regiao_11     1315\n",
       "regiao_23     1175\n",
       "regiao_29      994\n",
       "regiao_32      945\n",
       "regiao_19      874\n",
       "regiao_20      850\n",
       "regiao_14      827\n",
       "regiao_25      819\n",
       "regiao_17      796\n",
       "regiao_5       766\n",
       "regiao_6       690\n",
       "regiao_30      657\n",
       "regiao_8       655\n",
       "regiao_10      648\n",
       "regiao_1       610\n",
       "regiao_24      508\n",
       "regiao_12      500\n",
       "regiao_9       420\n",
       "regiao_21      411\n",
       "regiao_3       346\n",
       "regiao_34      292\n",
       "regiao_33      269\n",
       "regiao_18       31\n",
       "Name: regiao, dtype: int64"
      ]
     },
     "execution_count": 22,
     "metadata": {},
     "output_type": "execute_result"
    }
   ],
   "source": [
    "dados['regiao'].value_counts() #Verificando a quantidade de pessoas em cada região"
   ]
  },
  {
   "cell_type": "code",
   "execution_count": 23,
   "id": "33ff095f",
   "metadata": {
    "colab": {
     "base_uri": "https://localhost:8080/"
    },
    "id": "33ff095f",
    "outputId": "e7a194fc-5b34-464a-bef6-43ecd922b523"
   },
   "outputs": [
    {
     "data": {
      "text/plain": [
       "M    38496\n",
       "F    16312\n",
       "Name: genero, dtype: int64"
      ]
     },
     "execution_count": 23,
     "metadata": {},
     "output_type": "execute_result"
    }
   ],
   "source": [
    "dados['genero'].value_counts() #Verificando a quantidade de gêneros"
   ]
  },
  {
   "cell_type": "code",
   "execution_count": 24,
   "id": "7f9d733a",
   "metadata": {
    "colab": {
     "base_uri": "https://localhost:8080/",
     "height": 264
    },
    "id": "7f9d733a",
    "outputId": "67f7549e-7eb2-459b-9487-9e593c2177fb"
   },
   "outputs": [
    {
     "data": {
      "image/png": "[encoded data removed]",
      "text/plain": [
       "<Figure size 432x288 with 1 Axes>"
      ]
     },
     "metadata": {},
     "output_type": "display_data"
    }
   ],
   "source": [
    "woman = dados.loc[dados['genero'] == 'M'].count()[0]\n",
    "man = dados.loc[dados['genero'] == 'F'].count()[0]\n",
    "labels =['Masculino', 'Feminino']\n",
    "plt.title('Porcentagem de presença de gênero na empresa')\n",
    "plt.pie([woman, man], labels =labels, autopct='%.2f%%')\n",
    "plt.show()"
   ]
  },
  {
   "cell_type": "markdown",
   "id": "890f54fd",
   "metadata": {},
   "source": [
    "Grande presença do gênero masculino dentro da empresa"
   ]
  },
  {
   "cell_type": "code",
   "execution_count": 25,
   "id": "0a46b21d",
   "metadata": {
    "colab": {
     "base_uri": "https://localhost:8080/"
    },
    "id": "0a46b21d",
    "outputId": "66a0d768-9aa6-4ebf-a7d2-1080a8c8870e"
   },
   "outputs": [
    {
     "data": {
      "text/plain": [
       "outros               30446\n",
       "processo seletivo    23220\n",
       "indicacao             1142\n",
       "Name: canal_de_recrutamento, dtype: int64"
      ]
     },
     "execution_count": 25,
     "metadata": {},
     "output_type": "execute_result"
    }
   ],
   "source": [
    "dados['canal_de_recrutamento'].value_counts() #Verificando a forma de como foram contratados"
   ]
  },
  {
   "cell_type": "code",
   "execution_count": 26,
   "id": "6e764290",
   "metadata": {
    "colab": {
     "base_uri": "https://localhost:8080/"
    },
    "id": "6e764290",
    "outputId": "c2d4856b-5c98-41af-bdeb-4f44d7af0706"
   },
   "outputs": [
    {
     "data": {
      "text/plain": [
       "1     44378\n",
       "2      7987\n",
       "3      1776\n",
       "4       468\n",
       "5       128\n",
       "6        44\n",
       "7        12\n",
       "8         5\n",
       "10        5\n",
       "9         5\n",
       "Name: n_de_treinamentos, dtype: int64"
      ]
     },
     "execution_count": 26,
     "metadata": {},
     "output_type": "execute_result"
    }
   ],
   "source": [
    "dados['n_de_treinamentos'].value_counts() #Verificando a quantidade de vezes que passaram por um treinamento"
   ]
  },
  {
   "cell_type": "code",
   "execution_count": 27,
   "id": "b700eb7a",
   "metadata": {
    "colab": {
     "base_uri": "https://localhost:8080/"
    },
    "id": "b700eb7a",
    "outputId": "5383ce42-509b-485e-d6a5-fac3d14bf707"
   },
   "outputs": [
    {
     "data": {
      "text/plain": [
       "50    2716\n",
       "49    2681\n",
       "48    2437\n",
       "51    2347\n",
       "60    2155\n",
       "      ... \n",
       "98      37\n",
       "99      35\n",
       "41      26\n",
       "40       5\n",
       "39       2\n",
       "Name: pontuacao_media_treinamentos, Length: 61, dtype: int64"
      ]
     },
     "execution_count": 27,
     "metadata": {},
     "output_type": "execute_result"
    }
   ],
   "source": [
    "dados['pontuacao_media_treinamentos'].value_counts() #Verificando a pontuação média dos treinamentos"
   ]
  },
  {
   "cell_type": "code",
   "execution_count": 28,
   "id": "1799722b",
   "metadata": {
    "colab": {
     "base_uri": "https://localhost:8080/",
     "height": 295
    },
    "id": "1799722b",
    "outputId": "6a7af8af-b673-4fbe-99f2-d153ae08e68c"
   },
   "outputs": [
    {
     "data": {
      "image/png": "[encoded data removed]",
      "text/plain": [
       "<Figure size 432x288 with 1 Axes>"
      ]
     },
     "metadata": {
      "needs_background": "light"
     },
     "output_type": "display_data"
    }
   ],
   "source": [
    "dados.hist(column='pontuacao_media_treinamentos',bins=60)\n",
    "plt.ylabel('Quantidade de empregados')\n",
    "plt.xlabel('Pontuação dos treinamentos')\n",
    "plt.show()"
   ]
  },
  {
   "cell_type": "code",
   "execution_count": 29,
   "id": "34dda2a7",
   "metadata": {
    "colab": {
     "base_uri": "https://localhost:8080/"
    },
    "id": "34dda2a7",
    "outputId": "414060d7-a7f9-4883-8b0e-8d89c018dcd7"
   },
   "outputs": [
    {
     "data": {
      "text/plain": [
       "30    3665\n",
       "32    3534\n",
       "31    3534\n",
       "29    3405\n",
       "33    3210\n",
       "28    3147\n",
       "34    3076\n",
       "27    2827\n",
       "35    2711\n",
       "36    2517\n",
       "37    2165\n",
       "26    2060\n",
       "38    1923\n",
       "39    1695\n",
       "40    1663\n",
       "25    1299\n",
       "41    1289\n",
       "42    1149\n",
       "43     992\n",
       "44     847\n",
       "24     845\n",
       "45     760\n",
       "46     697\n",
       "48     557\n",
       "47     557\n",
       "50     521\n",
       "49     441\n",
       "23     428\n",
       "51     389\n",
       "53     364\n",
       "52     351\n",
       "54     313\n",
       "55     294\n",
       "56     264\n",
       "57     238\n",
       "22     231\n",
       "60     217\n",
       "58     213\n",
       "59     209\n",
       "20     113\n",
       "21      98\n",
       "Name: idade, dtype: int64"
      ]
     },
     "execution_count": 29,
     "metadata": {},
     "output_type": "execute_result"
    }
   ],
   "source": [
    "dados['idade'].value_counts() #Verificando a quantidade de pessoas com a respectiva idade                           "
   ]
  },
  {
   "cell_type": "code",
   "execution_count": 30,
   "id": "004ab64d",
   "metadata": {
    "colab": {
     "base_uri": "https://localhost:8080/"
    },
    "id": "004ab64d",
    "outputId": "0edbefb3-af80-458c-eae8-307b9928bfcb"
   },
   "outputs": [
    {
     "data": {
      "text/plain": [
       "3     7033\n",
       "4     6836\n",
       "2     6684\n",
       "5     5832\n",
       "7     5551\n",
       "6     4734\n",
       "1     4547\n",
       "8     2883\n",
       "9     2629\n",
       "10    2193\n",
       "11     916\n",
       "12     794\n",
       "13     687\n",
       "15     593\n",
       "14     549\n",
       "16     548\n",
       "17     432\n",
       "18     392\n",
       "19     329\n",
       "20     128\n",
       "21      78\n",
       "24      70\n",
       "23      65\n",
       "22      61\n",
       "25      51\n",
       "26      41\n",
       "27      36\n",
       "28      30\n",
       "29      30\n",
       "31      20\n",
       "30      12\n",
       "32      10\n",
       "33       9\n",
       "34       4\n",
       "37       1\n",
       "Name: tempo_de_servico, dtype: int64"
      ]
     },
     "execution_count": 30,
     "metadata": {},
     "output_type": "execute_result"
    }
   ],
   "source": [
    "dados['tempo_de_servico'].value_counts() #Verificando o tempo de serviço das pessoas"
   ]
  },
  {
   "cell_type": "code",
   "execution_count": 31,
   "id": "b5280a04",
   "metadata": {
    "colab": {
     "base_uri": "https://localhost:8080/"
    },
    "id": "b5280a04",
    "outputId": "92254bfe-d6dd-4397-ddbc-c894fc0d1390"
   },
   "outputs": [
    {
     "data": {
      "text/plain": [
       "0    53538\n",
       "1     1270\n",
       "Name: venceu_premiacoes?, dtype: int64"
      ]
     },
     "execution_count": 31,
     "metadata": {},
     "output_type": "execute_result"
    }
   ],
   "source": [
    "dados['venceu_premiacoes?'].value_counts() #Verificando se as pessoas ganharam alguma premiação"
   ]
  },
  {
   "cell_type": "code",
   "execution_count": 32,
   "id": "657c6d89",
   "metadata": {
    "colab": {
     "base_uri": "https://localhost:8080/"
    },
    "id": "657c6d89",
    "outputId": "032d8fed-7127-4893-ce10-e743c5d042b5"
   },
   "outputs": [
    {
     "data": {
      "text/plain": [
       "0    35517\n",
       "1    19291\n",
       "Name: KPIs >80%, dtype: int64"
      ]
     },
     "execution_count": 32,
     "metadata": {},
     "output_type": "execute_result"
    }
   ],
   "source": [
    "dados['KPIs >80%'].value_counts() #Verificando se as pessoas possuem um KPI maior do que 80%"
   ]
  },
  {
   "cell_type": "code",
   "execution_count": 33,
   "id": "bc0ab8a6",
   "metadata": {
    "colab": {
     "base_uri": "https://localhost:8080/"
    },
    "id": "bc0ab8a6",
    "outputId": "06b63fa7-a649-4ef3-987a-a1c6fa126635",
    "scrolled": true
   },
   "outputs": [
    {
     "data": {
      "text/plain": [
       "0    50140\n",
       "1     4668\n",
       "Name: foi_promovido, dtype: int64"
      ]
     },
     "execution_count": 33,
     "metadata": {},
     "output_type": "execute_result"
    }
   ],
   "source": [
    "dados['foi_promovido'].value_counts() #Verificando a quantidade de pessoas que foram promovidas"
   ]
  },
  {
   "cell_type": "markdown",
   "id": "7b0e9f2a",
   "metadata": {},
   "source": [
    "Promoções estão relacionadas com o KPI"
   ]
  },
  {
   "cell_type": "markdown",
   "id": "14d601c4",
   "metadata": {
    "id": "14d601c4"
   },
   "source": [
    "#### Conclusão\n",
    "\n",
    "O dataframe é, originalmente, baseado em 54808 linhas, compostas por 14 colunas, dentre elas estão: a identificação do empregado, o departamento, a região, o seu tipo de escolaridade, gênero, a forma de recrutamento, o número de treinamentos, idade, pontuação feita no ano anterior, tempo de serviço, analisar se o KPIs foi maior do que 80%, se venceu algum tipo de premiação, ver a pontuação média dos treinamentos e se houve alguma promoção.\n",
    "\n",
    "Na visão geral, a empresa é dividida em 9 departamentos com 34 regiões. A maior parte da empresa é composta por pessoas do gênero masculino, correspondendo a 70,24%. Além disso, em relação ao tempo de serviço, a média da empresa é correspondente a 5.86 anos.\n",
    "\n",
    "Dentro do tipo de escolaridade vimos que, por sua maior parte, pessoas com bacharelado estão mais presentes na área, isso se deve pois, tradicionalmente, o bacharelado te prepara profissionalmente para os setores de comércio, industrial e de serviços, manuseando as técnicas desenvolvidas durante o curso, estando capaz para entrar no mercado de trabalho.\n",
    "\n",
    "A partir do Dataframe apresentado temos um elevado número de treinamentos dos funcionários, isso se deve por conta da competitividade do mercado de trabalho, o qual, é necessário que os funcionários estejam qualificados para que a eficiência da empresa cresça e se torne um destaque. Um pouco mais de 2700 pessoas conseguiram atingir 50 pontos nos treinamentos.\n",
    "\n",
    "Conforme os dados obtidos pela quantidade de pessoas dentro de seus departamentos, vimos que, a área com maior presença é a de Vendas & Marketing e isso se deve a diversos motivos. Um deles é pela necessidade, por parte das empresas, de mostrar as suas incumbências e produtos, o que acaba fazendo com que a indústria dê um grande foco na área. Além de que, atualmente, não há uma barreira geógrafica que impossibilite transações, melhor dizendo, apesar de uma empresa estar em alguma cidade/estado, ainda é possivel realizar vendas para outros locais, o que acaba crescendo o investimento no Marketing Digital.\n",
    "\n",
    "O KPI, ou, Indicador-chave de desempenho, são métricas elegidas como primordiais durante o processo logístico. Dentro da empresa, utilizando esta métrica, um pouco mais de 19.000 pessoas conseguiram mais de 80%. Vale ressaltar que, dessas 19.000 pessoas, apenas 4668 pessoas conseguiram uma promoção dentro da empresa.\n",
    "\n"
   ]
  }
 ],
 "metadata": {
  "colab": {
   "collapsed_sections": [],
   "provenance": []
  },
  "kernelspec": {
   "display_name": "Python 3 (ipykernel)",
   "language": "python",
   "name": "python3"
  },
  "language_info": {
   "codemirror_mode": {
    "name": "ipython",
    "version": 3
   },
   "file_extension": ".py",
   "mimetype": "text/x-python",
   "name": "python",
   "nbconvert_exporter": "python",
   "pygments_lexer": "ipython3",
   "version": "3.9.12"
  }
 },
 "nbformat": 4,
 "nbformat_minor": 5
}
